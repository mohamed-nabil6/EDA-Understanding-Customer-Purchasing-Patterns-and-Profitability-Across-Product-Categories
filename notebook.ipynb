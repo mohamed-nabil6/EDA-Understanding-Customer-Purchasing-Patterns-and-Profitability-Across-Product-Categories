{
 "cells": [
  {
   "cell_type": "code",
   "execution_count": 188,
   "id": "59ded261",
   "metadata": {},
   "outputs": [],
   "source": [
    "import numpy as np\n",
    "import pandas as pd\n",
    "import matplotlib.pyplot as plt\n",
    "import seaborn as sns\n",
    "from sklearn.preprocessing import LabelEncoder\n",
    "from sklearn.model_selection import train_test_split\n",
    "from sklearn.linear_model import LinearRegression\n",
    "from sklearn.metrics import mean_squared_error"
   ]
  },
  {
   "cell_type": "code",
   "execution_count": 189,
   "id": "43ea30c9",
   "metadata": {},
   "outputs": [],
   "source": [
    "data = pd.read_csv('D:\\Desktop\\project large\\client.csv')"
   ]
  },
  {
   "cell_type": "code",
   "execution_count": 190,
   "id": "7f1fedd4",
   "metadata": {},
   "outputs": [
    {
     "data": {
      "text/html": [
       "<div>\n",
       "<style scoped>\n",
       "    .dataframe tbody tr th:only-of-type {\n",
       "        vertical-align: middle;\n",
       "    }\n",
       "\n",
       "    .dataframe tbody tr th {\n",
       "        vertical-align: top;\n",
       "    }\n",
       "\n",
       "    .dataframe thead th {\n",
       "        text-align: right;\n",
       "    }\n",
       "</style>\n",
       "<table border=\"1\" class=\"dataframe\">\n",
       "  <thead>\n",
       "    <tr style=\"text-align: right;\">\n",
       "      <th></th>\n",
       "      <th>Customer ID</th>\n",
       "      <th>Client Segment</th>\n",
       "      <th>Country</th>\n",
       "      <th>Product ID</th>\n",
       "      <th>Product Category</th>\n",
       "      <th>Purchasing Price</th>\n",
       "      <th>Order ID</th>\n",
       "      <th>Order Date</th>\n",
       "      <th>Delivery Date</th>\n",
       "      <th>Service Level</th>\n",
       "      <th>Quantity</th>\n",
       "      <th>Planned Sales Price</th>\n",
       "      <th>Profit</th>\n",
       "    </tr>\n",
       "  </thead>\n",
       "  <tbody>\n",
       "    <tr>\n",
       "      <th>0</th>\n",
       "      <td>1-45998003</td>\n",
       "      <td>Corporate</td>\n",
       "      <td>United Arab Emirates</td>\n",
       "      <td>Product 7</td>\n",
       "      <td>Electronics</td>\n",
       "      <td>36,081</td>\n",
       "      <td>O-80034597</td>\n",
       "      <td>7-Sep-20</td>\n",
       "      <td>10-Sep-20</td>\n",
       "      <td>3</td>\n",
       "      <td>7</td>\n",
       "      <td>55,926</td>\n",
       "      <td>19,845</td>\n",
       "    </tr>\n",
       "    <tr>\n",
       "      <th>1</th>\n",
       "      <td>1-97158370</td>\n",
       "      <td>Consumer</td>\n",
       "      <td>Morocco</td>\n",
       "      <td>Product 14</td>\n",
       "      <td>Furniture</td>\n",
       "      <td>21,430</td>\n",
       "      <td>O-83709716</td>\n",
       "      <td>23-Sep-20</td>\n",
       "      <td>25-Sep-20</td>\n",
       "      <td>2</td>\n",
       "      <td>5</td>\n",
       "      <td>28,502</td>\n",
       "      <td>7,072</td>\n",
       "    </tr>\n",
       "    <tr>\n",
       "      <th>2</th>\n",
       "      <td>1-68585938</td>\n",
       "      <td>Consumer</td>\n",
       "      <td>Saudi Arabia</td>\n",
       "      <td>Product 12</td>\n",
       "      <td>Furniture</td>\n",
       "      <td>44,494</td>\n",
       "      <td>O-59386851</td>\n",
       "      <td>24-Sep-20</td>\n",
       "      <td>25-Sep-20</td>\n",
       "      <td>1</td>\n",
       "      <td>3</td>\n",
       "      <td>62,292</td>\n",
       "      <td>17,798</td>\n",
       "    </tr>\n",
       "    <tr>\n",
       "      <th>3</th>\n",
       "      <td>1-67285988</td>\n",
       "      <td>Consumer</td>\n",
       "      <td>Algeria</td>\n",
       "      <td>Product 20</td>\n",
       "      <td>Computer &amp; Laptop</td>\n",
       "      <td>12,734</td>\n",
       "      <td>O-59886722</td>\n",
       "      <td>24-Apr-20</td>\n",
       "      <td>25-Apr-20</td>\n",
       "      <td>1</td>\n",
       "      <td>1</td>\n",
       "      <td>16,554</td>\n",
       "      <td>3,820</td>\n",
       "    </tr>\n",
       "    <tr>\n",
       "      <th>4</th>\n",
       "      <td>1-64719309</td>\n",
       "      <td>Consumer</td>\n",
       "      <td>Egypt</td>\n",
       "      <td>Product 14</td>\n",
       "      <td>Furniture</td>\n",
       "      <td>21,430</td>\n",
       "      <td>O-93096473</td>\n",
       "      <td>17-Jan-20</td>\n",
       "      <td>20-Jan-20</td>\n",
       "      <td>3</td>\n",
       "      <td>1</td>\n",
       "      <td>26,788</td>\n",
       "      <td>5,358</td>\n",
       "    </tr>\n",
       "  </tbody>\n",
       "</table>\n",
       "</div>"
      ],
      "text/plain": [
       "  Customer ID Client Segment               Country  Product ID  \\\n",
       "0  1-45998003      Corporate  United Arab Emirates   Product 7   \n",
       "1  1-97158370       Consumer               Morocco  Product 14   \n",
       "2  1-68585938       Consumer          Saudi Arabia  Product 12   \n",
       "3  1-67285988       Consumer               Algeria  Product 20   \n",
       "4  1-64719309       Consumer                 Egypt  Product 14   \n",
       "\n",
       "    Product Category Purchasing Price    Order ID Order Date Delivery Date  \\\n",
       "0        Electronics           36,081  O-80034597   7-Sep-20     10-Sep-20   \n",
       "1          Furniture           21,430  O-83709716  23-Sep-20     25-Sep-20   \n",
       "2          Furniture           44,494  O-59386851  24-Sep-20     25-Sep-20   \n",
       "3  Computer & Laptop           12,734  O-59886722  24-Apr-20     25-Apr-20   \n",
       "4          Furniture           21,430  O-93096473  17-Jan-20     20-Jan-20   \n",
       "\n",
       "   Service Level  Quantity Planned Sales Price  Profit  \n",
       "0              3         7              55,926  19,845  \n",
       "1              2         5              28,502   7,072  \n",
       "2              1         3              62,292  17,798  \n",
       "3              1         1              16,554   3,820  \n",
       "4              3         1              26,788   5,358  "
      ]
     },
     "execution_count": 190,
     "metadata": {},
     "output_type": "execute_result"
    }
   ],
   "source": [
    "data.head()"
   ]
  },
  {
   "cell_type": "code",
   "execution_count": 191,
   "id": "cd9500a0",
   "metadata": {},
   "outputs": [
    {
     "data": {
      "text/plain": [
       "(10000, 13)"
      ]
     },
     "execution_count": 191,
     "metadata": {},
     "output_type": "execute_result"
    }
   ],
   "source": [
    "data.shape"
   ]
  },
  {
   "cell_type": "code",
   "execution_count": 192,
   "id": "183b0a13",
   "metadata": {},
   "outputs": [
    {
     "data": {
      "text/plain": [
       "Customer ID            0\n",
       "Client Segment         0\n",
       "Country                0\n",
       "Product ID             0\n",
       "Product Category       0\n",
       "Purchasing Price       0\n",
       "Order ID               0\n",
       "Order Date             0\n",
       "Delivery Date          0\n",
       "Service Level          0\n",
       "Quantity               0\n",
       "Planned Sales Price    0\n",
       "Profit                 0\n",
       "dtype: int64"
      ]
     },
     "execution_count": 192,
     "metadata": {},
     "output_type": "execute_result"
    }
   ],
   "source": [
    "data.isnull().sum()"
   ]
  },
  {
   "cell_type": "markdown",
   "id": "6ebca71a",
   "metadata": {},
   "source": [
    "###### How to deal with this objects"
   ]
  },
  {
   "cell_type": "code",
   "execution_count": 193,
   "id": "4595799a",
   "metadata": {},
   "outputs": [
    {
     "data": {
      "text/plain": [
       "Customer ID            object\n",
       "Client Segment         object\n",
       "Country                object\n",
       "Product ID             object\n",
       "Product Category       object\n",
       "Purchasing Price       object\n",
       "Order ID               object\n",
       "Order Date             object\n",
       "Delivery Date          object\n",
       "Service Level           int64\n",
       "Quantity                int64\n",
       "Planned Sales Price    object\n",
       "Profit                 object\n",
       "dtype: object"
      ]
     },
     "execution_count": 193,
     "metadata": {},
     "output_type": "execute_result"
    }
   ],
   "source": [
    "data.dtypes"
   ]
  },
  {
   "cell_type": "code",
   "execution_count": 194,
   "id": "f0ca22a4",
   "metadata": {},
   "outputs": [
    {
     "data": {
      "text/plain": [
       "119"
      ]
     },
     "execution_count": 194,
     "metadata": {},
     "output_type": "execute_result"
    }
   ],
   "source": [
    "data['Profit'].nunique()"
   ]
  },
  {
   "cell_type": "code",
   "execution_count": 195,
   "id": "1871e363",
   "metadata": {},
   "outputs": [
    {
     "data": {
      "text/plain": [
       "Furniture            3553\n",
       "Electronics          3410\n",
       "Computer & Laptop    3037\n",
       "Name: Product Category, dtype: int64"
      ]
     },
     "execution_count": 195,
     "metadata": {},
     "output_type": "execute_result"
    }
   ],
   "source": [
    "data['Product Category'].value_counts()"
   ]
  },
  {
   "cell_type": "code",
   "execution_count": 196,
   "id": "3eeb5f47",
   "metadata": {},
   "outputs": [
    {
     "data": {
      "text/plain": [
       "Morocco                 1737\n",
       "United Arab Emirates    1665\n",
       "Egypt                   1659\n",
       "Iraq                    1654\n",
       "Algeria                 1652\n",
       "Saudi Arabia            1633\n",
       "Name: Country, dtype: int64"
      ]
     },
     "execution_count": 196,
     "metadata": {},
     "output_type": "execute_result"
    }
   ],
   "source": [
    "data['Country'].value_counts()"
   ]
  },
  {
   "cell_type": "code",
   "execution_count": 197,
   "id": "a3ef7132",
   "metadata": {},
   "outputs": [
    {
     "data": {
      "text/plain": [
       "2-Mar-20     51\n",
       "1-Dec-20     50\n",
       "1-Jul-20     48\n",
       "1-May-20     42\n",
       "1-Oct-20     42\n",
       "1-Mar-20     40\n",
       "27-Dec-20    40\n",
       "17-Nov-20    40\n",
       "28-Jul-20    39\n",
       "2-Sep-20     39\n",
       "14-Aug-20    39\n",
       "1-Sep-20     38\n",
       "7-Apr-20     38\n",
       "12-Jan-20    38\n",
       "28-Sep-20    37\n",
       "8-Dec-20     37\n",
       "11-Feb-20    37\n",
       "17-Jun-20    36\n",
       "8-Jan-20     36\n",
       "15-Jan-20    35\n",
       "Name: Order Date, dtype: int64"
      ]
     },
     "execution_count": 197,
     "metadata": {},
     "output_type": "execute_result"
    }
   ],
   "source": [
    "data['Order Date'].value_counts().head(20)"
   ]
  },
  {
   "cell_type": "code",
   "execution_count": 198,
   "id": "9b429a6f",
   "metadata": {},
   "outputs": [
    {
     "data": {
      "text/plain": [
       "Product 19    537\n",
       "Product 5     530\n",
       "Product 13    523\n",
       "Product 9     523\n",
       "Product 3     516\n",
       "Product 10    516\n",
       "Product 14    511\n",
       "Product 20    507\n",
       "Product 8     506\n",
       "Product 16    505\n",
       "Product 15    504\n",
       "Product 1     497\n",
       "Product 17    496\n",
       "Product 11    492\n",
       "Product 18    488\n",
       "Product 12    482\n",
       "Product 2     476\n",
       "Product 6     472\n",
       "Product 4     462\n",
       "Product 7     457\n",
       "Name: Product ID, dtype: int64"
      ]
     },
     "execution_count": 198,
     "metadata": {},
     "output_type": "execute_result"
    }
   ],
   "source": [
    "data['Product ID'].value_counts()"
   ]
  },
  {
   "cell_type": "code",
   "execution_count": 199,
   "id": "942cf2b3",
   "metadata": {},
   "outputs": [
    {
     "data": {
      "text/plain": [
       "Client Segment  Country             \n",
       "Consumer        Egypt                   1313\n",
       "                Algeria                 1142\n",
       "                Morocco                  953\n",
       "                Iraq                     909\n",
       "                Saudi Arabia             893\n",
       "                United Arab Emirates     629\n",
       "Corporate       United Arab Emirates    1036\n",
       "                Morocco                  784\n",
       "                Iraq                     745\n",
       "                Saudi Arabia             740\n",
       "                Algeria                  510\n",
       "                Egypt                    346\n",
       "Name: Country, dtype: int64"
      ]
     },
     "execution_count": 199,
     "metadata": {},
     "output_type": "execute_result"
    }
   ],
   "source": [
    "data.groupby('Client Segment')['Country'].value_counts()"
   ]
  },
  {
   "cell_type": "code",
   "execution_count": 200,
   "id": "d004dbbb",
   "metadata": {},
   "outputs": [
    {
     "data": {
      "text/html": [
       "<div>\n",
       "<style scoped>\n",
       "    .dataframe tbody tr th:only-of-type {\n",
       "        vertical-align: middle;\n",
       "    }\n",
       "\n",
       "    .dataframe tbody tr th {\n",
       "        vertical-align: top;\n",
       "    }\n",
       "\n",
       "    .dataframe thead th {\n",
       "        text-align: right;\n",
       "    }\n",
       "</style>\n",
       "<table border=\"1\" class=\"dataframe\">\n",
       "  <thead>\n",
       "    <tr style=\"text-align: right;\">\n",
       "      <th></th>\n",
       "      <th>Service Level</th>\n",
       "      <th>Quantity</th>\n",
       "    </tr>\n",
       "  </thead>\n",
       "  <tbody>\n",
       "    <tr>\n",
       "      <th>count</th>\n",
       "      <td>10000.000000</td>\n",
       "      <td>10000.000000</td>\n",
       "    </tr>\n",
       "    <tr>\n",
       "      <th>mean</th>\n",
       "      <td>2.008400</td>\n",
       "      <td>8.324600</td>\n",
       "    </tr>\n",
       "    <tr>\n",
       "      <th>std</th>\n",
       "      <td>0.813754</td>\n",
       "      <td>7.274608</td>\n",
       "    </tr>\n",
       "    <tr>\n",
       "      <th>min</th>\n",
       "      <td>1.000000</td>\n",
       "      <td>1.000000</td>\n",
       "    </tr>\n",
       "    <tr>\n",
       "      <th>25%</th>\n",
       "      <td>1.000000</td>\n",
       "      <td>3.000000</td>\n",
       "    </tr>\n",
       "    <tr>\n",
       "      <th>50%</th>\n",
       "      <td>2.000000</td>\n",
       "      <td>5.000000</td>\n",
       "    </tr>\n",
       "    <tr>\n",
       "      <th>75%</th>\n",
       "      <td>3.000000</td>\n",
       "      <td>14.000000</td>\n",
       "    </tr>\n",
       "    <tr>\n",
       "      <th>max</th>\n",
       "      <td>3.000000</td>\n",
       "      <td>25.000000</td>\n",
       "    </tr>\n",
       "  </tbody>\n",
       "</table>\n",
       "</div>"
      ],
      "text/plain": [
       "       Service Level      Quantity\n",
       "count   10000.000000  10000.000000\n",
       "mean        2.008400      8.324600\n",
       "std         0.813754      7.274608\n",
       "min         1.000000      1.000000\n",
       "25%         1.000000      3.000000\n",
       "50%         2.000000      5.000000\n",
       "75%         3.000000     14.000000\n",
       "max         3.000000     25.000000"
      ]
     },
     "execution_count": 200,
     "metadata": {},
     "output_type": "execute_result"
    }
   ],
   "source": [
    "data.describe()"
   ]
  },
  {
   "cell_type": "code",
   "execution_count": 201,
   "id": "f24354b2",
   "metadata": {},
   "outputs": [
    {
     "data": {
      "text/html": [
       "<div>\n",
       "<style scoped>\n",
       "    .dataframe tbody tr th:only-of-type {\n",
       "        vertical-align: middle;\n",
       "    }\n",
       "\n",
       "    .dataframe tbody tr th {\n",
       "        vertical-align: top;\n",
       "    }\n",
       "\n",
       "    .dataframe thead th {\n",
       "        text-align: right;\n",
       "    }\n",
       "</style>\n",
       "<table border=\"1\" class=\"dataframe\">\n",
       "  <thead>\n",
       "    <tr style=\"text-align: right;\">\n",
       "      <th></th>\n",
       "      <th>Client Segment</th>\n",
       "      <th>Country</th>\n",
       "      <th>Product ID</th>\n",
       "      <th>Product Category</th>\n",
       "      <th>Purchasing Price</th>\n",
       "      <th>Order Date</th>\n",
       "      <th>Delivery Date</th>\n",
       "      <th>Service Level</th>\n",
       "      <th>Quantity</th>\n",
       "      <th>Planned Sales Price</th>\n",
       "      <th>Profit</th>\n",
       "    </tr>\n",
       "  </thead>\n",
       "  <tbody>\n",
       "    <tr>\n",
       "      <th>0</th>\n",
       "      <td>Corporate</td>\n",
       "      <td>United Arab Emirates</td>\n",
       "      <td>Product 7</td>\n",
       "      <td>Electronics</td>\n",
       "      <td>36,081</td>\n",
       "      <td>7-Sep-20</td>\n",
       "      <td>10-Sep-20</td>\n",
       "      <td>3</td>\n",
       "      <td>7</td>\n",
       "      <td>55,926</td>\n",
       "      <td>19,845</td>\n",
       "    </tr>\n",
       "    <tr>\n",
       "      <th>1</th>\n",
       "      <td>Consumer</td>\n",
       "      <td>Morocco</td>\n",
       "      <td>Product 14</td>\n",
       "      <td>Furniture</td>\n",
       "      <td>21,430</td>\n",
       "      <td>23-Sep-20</td>\n",
       "      <td>25-Sep-20</td>\n",
       "      <td>2</td>\n",
       "      <td>5</td>\n",
       "      <td>28,502</td>\n",
       "      <td>7,072</td>\n",
       "    </tr>\n",
       "    <tr>\n",
       "      <th>2</th>\n",
       "      <td>Consumer</td>\n",
       "      <td>Saudi Arabia</td>\n",
       "      <td>Product 12</td>\n",
       "      <td>Furniture</td>\n",
       "      <td>44,494</td>\n",
       "      <td>24-Sep-20</td>\n",
       "      <td>25-Sep-20</td>\n",
       "      <td>1</td>\n",
       "      <td>3</td>\n",
       "      <td>62,292</td>\n",
       "      <td>17,798</td>\n",
       "    </tr>\n",
       "    <tr>\n",
       "      <th>3</th>\n",
       "      <td>Consumer</td>\n",
       "      <td>Algeria</td>\n",
       "      <td>Product 20</td>\n",
       "      <td>Computer &amp; Laptop</td>\n",
       "      <td>12,734</td>\n",
       "      <td>24-Apr-20</td>\n",
       "      <td>25-Apr-20</td>\n",
       "      <td>1</td>\n",
       "      <td>1</td>\n",
       "      <td>16,554</td>\n",
       "      <td>3,820</td>\n",
       "    </tr>\n",
       "    <tr>\n",
       "      <th>4</th>\n",
       "      <td>Consumer</td>\n",
       "      <td>Egypt</td>\n",
       "      <td>Product 14</td>\n",
       "      <td>Furniture</td>\n",
       "      <td>21,430</td>\n",
       "      <td>17-Jan-20</td>\n",
       "      <td>20-Jan-20</td>\n",
       "      <td>3</td>\n",
       "      <td>1</td>\n",
       "      <td>26,788</td>\n",
       "      <td>5,358</td>\n",
       "    </tr>\n",
       "    <tr>\n",
       "      <th>...</th>\n",
       "      <td>...</td>\n",
       "      <td>...</td>\n",
       "      <td>...</td>\n",
       "      <td>...</td>\n",
       "      <td>...</td>\n",
       "      <td>...</td>\n",
       "      <td>...</td>\n",
       "      <td>...</td>\n",
       "      <td>...</td>\n",
       "      <td>...</td>\n",
       "      <td>...</td>\n",
       "    </tr>\n",
       "    <tr>\n",
       "      <th>9995</th>\n",
       "      <td>Consumer</td>\n",
       "      <td>Morocco</td>\n",
       "      <td>Product 11</td>\n",
       "      <td>Furniture</td>\n",
       "      <td>44,772</td>\n",
       "      <td>14-Jun-20</td>\n",
       "      <td>15-Jun-20</td>\n",
       "      <td>1</td>\n",
       "      <td>2</td>\n",
       "      <td>59,547</td>\n",
       "      <td>14,775</td>\n",
       "    </tr>\n",
       "    <tr>\n",
       "      <th>9996</th>\n",
       "      <td>Consumer</td>\n",
       "      <td>Iraq</td>\n",
       "      <td>Product 4</td>\n",
       "      <td>Electronics</td>\n",
       "      <td>19,232</td>\n",
       "      <td>21-Aug-20</td>\n",
       "      <td>23-Aug-20</td>\n",
       "      <td>2</td>\n",
       "      <td>4</td>\n",
       "      <td>22,117</td>\n",
       "      <td>2,885</td>\n",
       "    </tr>\n",
       "    <tr>\n",
       "      <th>9997</th>\n",
       "      <td>Consumer</td>\n",
       "      <td>Egypt</td>\n",
       "      <td>Product 2</td>\n",
       "      <td>Electronics</td>\n",
       "      <td>13,144</td>\n",
       "      <td>19-Sep-20</td>\n",
       "      <td>21-Sep-20</td>\n",
       "      <td>2</td>\n",
       "      <td>2</td>\n",
       "      <td>16,430</td>\n",
       "      <td>3,286</td>\n",
       "    </tr>\n",
       "    <tr>\n",
       "      <th>9998</th>\n",
       "      <td>Corporate</td>\n",
       "      <td>United Arab Emirates</td>\n",
       "      <td>Product 2</td>\n",
       "      <td>Electronics</td>\n",
       "      <td>13,144</td>\n",
       "      <td>1-Aug-20</td>\n",
       "      <td>3-Aug-20</td>\n",
       "      <td>2</td>\n",
       "      <td>18</td>\n",
       "      <td>20,373</td>\n",
       "      <td>7,229</td>\n",
       "    </tr>\n",
       "    <tr>\n",
       "      <th>9999</th>\n",
       "      <td>Consumer</td>\n",
       "      <td>Egypt</td>\n",
       "      <td>Product 2</td>\n",
       "      <td>Electronics</td>\n",
       "      <td>13,144</td>\n",
       "      <td>14-Feb-20</td>\n",
       "      <td>17-Feb-20</td>\n",
       "      <td>3</td>\n",
       "      <td>1</td>\n",
       "      <td>16,430</td>\n",
       "      <td>3,286</td>\n",
       "    </tr>\n",
       "  </tbody>\n",
       "</table>\n",
       "<p>10000 rows × 11 columns</p>\n",
       "</div>"
      ],
      "text/plain": [
       "     Client Segment               Country  Product ID   Product Category  \\\n",
       "0         Corporate  United Arab Emirates   Product 7        Electronics   \n",
       "1          Consumer               Morocco  Product 14          Furniture   \n",
       "2          Consumer          Saudi Arabia  Product 12          Furniture   \n",
       "3          Consumer               Algeria  Product 20  Computer & Laptop   \n",
       "4          Consumer                 Egypt  Product 14          Furniture   \n",
       "...             ...                   ...         ...                ...   \n",
       "9995       Consumer               Morocco  Product 11          Furniture   \n",
       "9996       Consumer                  Iraq   Product 4        Electronics   \n",
       "9997       Consumer                 Egypt   Product 2        Electronics   \n",
       "9998      Corporate  United Arab Emirates   Product 2        Electronics   \n",
       "9999       Consumer                 Egypt   Product 2        Electronics   \n",
       "\n",
       "     Purchasing Price Order Date Delivery Date  Service Level  Quantity  \\\n",
       "0              36,081   7-Sep-20     10-Sep-20              3         7   \n",
       "1              21,430  23-Sep-20     25-Sep-20              2         5   \n",
       "2              44,494  24-Sep-20     25-Sep-20              1         3   \n",
       "3              12,734  24-Apr-20     25-Apr-20              1         1   \n",
       "4              21,430  17-Jan-20     20-Jan-20              3         1   \n",
       "...               ...        ...           ...            ...       ...   \n",
       "9995           44,772  14-Jun-20     15-Jun-20              1         2   \n",
       "9996           19,232  21-Aug-20     23-Aug-20              2         4   \n",
       "9997           13,144  19-Sep-20     21-Sep-20              2         2   \n",
       "9998           13,144   1-Aug-20      3-Aug-20              2        18   \n",
       "9999           13,144  14-Feb-20     17-Feb-20              3         1   \n",
       "\n",
       "     Planned Sales Price  Profit  \n",
       "0                 55,926  19,845  \n",
       "1                 28,502   7,072  \n",
       "2                 62,292  17,798  \n",
       "3                 16,554   3,820  \n",
       "4                 26,788   5,358  \n",
       "...                  ...     ...  \n",
       "9995              59,547  14,775  \n",
       "9996              22,117   2,885  \n",
       "9997              16,430   3,286  \n",
       "9998              20,373   7,229  \n",
       "9999              16,430   3,286  \n",
       "\n",
       "[10000 rows x 11 columns]"
      ]
     },
     "execution_count": 201,
     "metadata": {},
     "output_type": "execute_result"
    }
   ],
   "source": [
    "newdata= data.drop(['Customer ID','Order ID'],axis=1)\n",
    "newdata"
   ]
  },
  {
   "cell_type": "code",
   "execution_count": 202,
   "id": "a459add9",
   "metadata": {},
   "outputs": [
    {
     "data": {
      "text/html": [
       "<div>\n",
       "<style scoped>\n",
       "    .dataframe tbody tr th:only-of-type {\n",
       "        vertical-align: middle;\n",
       "    }\n",
       "\n",
       "    .dataframe tbody tr th {\n",
       "        vertical-align: top;\n",
       "    }\n",
       "\n",
       "    .dataframe thead th {\n",
       "        text-align: right;\n",
       "    }\n",
       "</style>\n",
       "<table border=\"1\" class=\"dataframe\">\n",
       "  <thead>\n",
       "    <tr style=\"text-align: right;\">\n",
       "      <th></th>\n",
       "      <th>Client Segment</th>\n",
       "      <th>Country</th>\n",
       "      <th>Product ID</th>\n",
       "      <th>Product Category</th>\n",
       "      <th>Purchasing Price</th>\n",
       "      <th>Order Date</th>\n",
       "      <th>Delivery Date</th>\n",
       "      <th>Planned Sales Price</th>\n",
       "      <th>Profit</th>\n",
       "    </tr>\n",
       "  </thead>\n",
       "  <tbody>\n",
       "    <tr>\n",
       "      <th>count</th>\n",
       "      <td>10000</td>\n",
       "      <td>10000</td>\n",
       "      <td>10000</td>\n",
       "      <td>10000</td>\n",
       "      <td>10000</td>\n",
       "      <td>10000</td>\n",
       "      <td>10000</td>\n",
       "      <td>10000</td>\n",
       "      <td>10000</td>\n",
       "    </tr>\n",
       "    <tr>\n",
       "      <th>unique</th>\n",
       "      <td>2</td>\n",
       "      <td>6</td>\n",
       "      <td>20</td>\n",
       "      <td>3</td>\n",
       "      <td>20</td>\n",
       "      <td>366</td>\n",
       "      <td>368</td>\n",
       "      <td>119</td>\n",
       "      <td>119</td>\n",
       "    </tr>\n",
       "    <tr>\n",
       "      <th>top</th>\n",
       "      <td>Consumer</td>\n",
       "      <td>Morocco</td>\n",
       "      <td>Product 19</td>\n",
       "      <td>Furniture</td>\n",
       "      <td>15,954</td>\n",
       "      <td>2-Mar-20</td>\n",
       "      <td>5-Sep-20</td>\n",
       "      <td>55,618</td>\n",
       "      <td>11,124</td>\n",
       "    </tr>\n",
       "    <tr>\n",
       "      <th>freq</th>\n",
       "      <td>5839</td>\n",
       "      <td>1737</td>\n",
       "      <td>537</td>\n",
       "      <td>3553</td>\n",
       "      <td>537</td>\n",
       "      <td>51</td>\n",
       "      <td>42</td>\n",
       "      <td>171</td>\n",
       "      <td>171</td>\n",
       "    </tr>\n",
       "  </tbody>\n",
       "</table>\n",
       "</div>"
      ],
      "text/plain": [
       "       Client Segment  Country  Product ID Product Category Purchasing Price  \\\n",
       "count           10000    10000       10000            10000            10000   \n",
       "unique              2        6          20                3               20   \n",
       "top          Consumer  Morocco  Product 19        Furniture           15,954   \n",
       "freq             5839     1737         537             3553              537   \n",
       "\n",
       "       Order Date Delivery Date Planned Sales Price  Profit  \n",
       "count       10000         10000               10000   10000  \n",
       "unique        366           368                 119     119  \n",
       "top      2-Mar-20      5-Sep-20              55,618  11,124  \n",
       "freq           51            42                 171     171  "
      ]
     },
     "execution_count": 202,
     "metadata": {},
     "output_type": "execute_result"
    }
   ],
   "source": [
    "newdata.describe(include=['O'])"
   ]
  },
  {
   "cell_type": "code",
   "execution_count": 203,
   "id": "b35a39e4",
   "metadata": {},
   "outputs": [
    {
     "data": {
      "text/plain": [
       "Consumer     5839\n",
       "Corporate    4161\n",
       "Name: Client Segment, dtype: int64"
      ]
     },
     "execution_count": 203,
     "metadata": {},
     "output_type": "execute_result"
    }
   ],
   "source": [
    "newdata['Client Segment'].value_counts()"
   ]
  },
  {
   "cell_type": "code",
   "execution_count": 204,
   "id": "93cb4965",
   "metadata": {},
   "outputs": [
    {
     "data": {
      "text/html": [
       "<div>\n",
       "<style scoped>\n",
       "    .dataframe tbody tr th:only-of-type {\n",
       "        vertical-align: middle;\n",
       "    }\n",
       "\n",
       "    .dataframe tbody tr th {\n",
       "        vertical-align: top;\n",
       "    }\n",
       "\n",
       "    .dataframe thead th {\n",
       "        text-align: right;\n",
       "    }\n",
       "</style>\n",
       "<table border=\"1\" class=\"dataframe\">\n",
       "  <thead>\n",
       "    <tr style=\"text-align: right;\">\n",
       "      <th></th>\n",
       "      <th>Purchasing Price</th>\n",
       "      <th>Planned Sales Price</th>\n",
       "      <th>Profit</th>\n",
       "    </tr>\n",
       "  </thead>\n",
       "  <tbody>\n",
       "    <tr>\n",
       "      <th>0</th>\n",
       "      <td>36,081</td>\n",
       "      <td>55,926</td>\n",
       "      <td>19,845</td>\n",
       "    </tr>\n",
       "    <tr>\n",
       "      <th>1</th>\n",
       "      <td>21,430</td>\n",
       "      <td>28,502</td>\n",
       "      <td>7,072</td>\n",
       "    </tr>\n",
       "    <tr>\n",
       "      <th>2</th>\n",
       "      <td>44,494</td>\n",
       "      <td>62,292</td>\n",
       "      <td>17,798</td>\n",
       "    </tr>\n",
       "    <tr>\n",
       "      <th>3</th>\n",
       "      <td>12,734</td>\n",
       "      <td>16,554</td>\n",
       "      <td>3,820</td>\n",
       "    </tr>\n",
       "    <tr>\n",
       "      <th>4</th>\n",
       "      <td>21,430</td>\n",
       "      <td>26,788</td>\n",
       "      <td>5,358</td>\n",
       "    </tr>\n",
       "    <tr>\n",
       "      <th>...</th>\n",
       "      <td>...</td>\n",
       "      <td>...</td>\n",
       "      <td>...</td>\n",
       "    </tr>\n",
       "    <tr>\n",
       "      <th>9995</th>\n",
       "      <td>44,772</td>\n",
       "      <td>59,547</td>\n",
       "      <td>14,775</td>\n",
       "    </tr>\n",
       "    <tr>\n",
       "      <th>9996</th>\n",
       "      <td>19,232</td>\n",
       "      <td>22,117</td>\n",
       "      <td>2,885</td>\n",
       "    </tr>\n",
       "    <tr>\n",
       "      <th>9997</th>\n",
       "      <td>13,144</td>\n",
       "      <td>16,430</td>\n",
       "      <td>3,286</td>\n",
       "    </tr>\n",
       "    <tr>\n",
       "      <th>9998</th>\n",
       "      <td>13,144</td>\n",
       "      <td>20,373</td>\n",
       "      <td>7,229</td>\n",
       "    </tr>\n",
       "    <tr>\n",
       "      <th>9999</th>\n",
       "      <td>13,144</td>\n",
       "      <td>16,430</td>\n",
       "      <td>3,286</td>\n",
       "    </tr>\n",
       "  </tbody>\n",
       "</table>\n",
       "<p>10000 rows × 3 columns</p>\n",
       "</div>"
      ],
      "text/plain": [
       "     Purchasing Price Planned Sales Price  Profit\n",
       "0              36,081              55,926  19,845\n",
       "1              21,430              28,502   7,072\n",
       "2              44,494              62,292  17,798\n",
       "3              12,734              16,554   3,820\n",
       "4              21,430              26,788   5,358\n",
       "...               ...                 ...     ...\n",
       "9995           44,772              59,547  14,775\n",
       "9996           19,232              22,117   2,885\n",
       "9997           13,144              16,430   3,286\n",
       "9998           13,144              20,373   7,229\n",
       "9999           13,144              16,430   3,286\n",
       "\n",
       "[10000 rows x 3 columns]"
      ]
     },
     "execution_count": 204,
     "metadata": {},
     "output_type": "execute_result"
    }
   ],
   "source": [
    "newdata[['Purchasing Price','Planned Sales Price','Profit']]"
   ]
  },
  {
   "cell_type": "markdown",
   "id": "e9d6ae0c",
   "metadata": {},
   "source": [
    "###### Convert comma to decimal point and convert numbers to float"
   ]
  },
  {
   "cell_type": "code",
   "execution_count": 205,
   "id": "e273f30f",
   "metadata": {},
   "outputs": [],
   "source": [
    "newdata['Purchasing Price'] = newdata['Purchasing Price'].apply(lambda x: x.replace(',', '.')).astype('float')"
   ]
  },
  {
   "cell_type": "code",
   "execution_count": 206,
   "id": "f229e6df",
   "metadata": {},
   "outputs": [],
   "source": [
    "newdata['Profit'] = newdata['Profit'].apply(lambda x: x.replace(',', '.')).astype('float')"
   ]
  },
  {
   "cell_type": "code",
   "execution_count": 207,
   "id": "4628879e",
   "metadata": {},
   "outputs": [],
   "source": [
    "newdata['Planned Sales Price'] = newdata['Planned Sales Price'].apply(lambda x: x.replace(',', '.')).astype('float')"
   ]
  },
  {
   "cell_type": "code",
   "execution_count": 208,
   "id": "99a8e2e1",
   "metadata": {},
   "outputs": [
    {
     "data": {
      "text/html": [
       "<div>\n",
       "<style scoped>\n",
       "    .dataframe tbody tr th:only-of-type {\n",
       "        vertical-align: middle;\n",
       "    }\n",
       "\n",
       "    .dataframe tbody tr th {\n",
       "        vertical-align: top;\n",
       "    }\n",
       "\n",
       "    .dataframe thead th {\n",
       "        text-align: right;\n",
       "    }\n",
       "</style>\n",
       "<table border=\"1\" class=\"dataframe\">\n",
       "  <thead>\n",
       "    <tr style=\"text-align: right;\">\n",
       "      <th></th>\n",
       "      <th>Purchasing Price</th>\n",
       "      <th>Planned Sales Price</th>\n",
       "      <th>Profit</th>\n",
       "    </tr>\n",
       "  </thead>\n",
       "  <tbody>\n",
       "    <tr>\n",
       "      <th>0</th>\n",
       "      <td>36.081</td>\n",
       "      <td>55.926</td>\n",
       "      <td>19.845</td>\n",
       "    </tr>\n",
       "    <tr>\n",
       "      <th>1</th>\n",
       "      <td>21.430</td>\n",
       "      <td>28.502</td>\n",
       "      <td>7.072</td>\n",
       "    </tr>\n",
       "    <tr>\n",
       "      <th>2</th>\n",
       "      <td>44.494</td>\n",
       "      <td>62.292</td>\n",
       "      <td>17.798</td>\n",
       "    </tr>\n",
       "    <tr>\n",
       "      <th>3</th>\n",
       "      <td>12.734</td>\n",
       "      <td>16.554</td>\n",
       "      <td>3.820</td>\n",
       "    </tr>\n",
       "    <tr>\n",
       "      <th>4</th>\n",
       "      <td>21.430</td>\n",
       "      <td>26.788</td>\n",
       "      <td>5.358</td>\n",
       "    </tr>\n",
       "    <tr>\n",
       "      <th>...</th>\n",
       "      <td>...</td>\n",
       "      <td>...</td>\n",
       "      <td>...</td>\n",
       "    </tr>\n",
       "    <tr>\n",
       "      <th>9995</th>\n",
       "      <td>44.772</td>\n",
       "      <td>59.547</td>\n",
       "      <td>14.775</td>\n",
       "    </tr>\n",
       "    <tr>\n",
       "      <th>9996</th>\n",
       "      <td>19.232</td>\n",
       "      <td>22.117</td>\n",
       "      <td>2.885</td>\n",
       "    </tr>\n",
       "    <tr>\n",
       "      <th>9997</th>\n",
       "      <td>13.144</td>\n",
       "      <td>16.430</td>\n",
       "      <td>3.286</td>\n",
       "    </tr>\n",
       "    <tr>\n",
       "      <th>9998</th>\n",
       "      <td>13.144</td>\n",
       "      <td>20.373</td>\n",
       "      <td>7.229</td>\n",
       "    </tr>\n",
       "    <tr>\n",
       "      <th>9999</th>\n",
       "      <td>13.144</td>\n",
       "      <td>16.430</td>\n",
       "      <td>3.286</td>\n",
       "    </tr>\n",
       "  </tbody>\n",
       "</table>\n",
       "<p>10000 rows × 3 columns</p>\n",
       "</div>"
      ],
      "text/plain": [
       "      Purchasing Price  Planned Sales Price  Profit\n",
       "0               36.081               55.926  19.845\n",
       "1               21.430               28.502   7.072\n",
       "2               44.494               62.292  17.798\n",
       "3               12.734               16.554   3.820\n",
       "4               21.430               26.788   5.358\n",
       "...                ...                  ...     ...\n",
       "9995            44.772               59.547  14.775\n",
       "9996            19.232               22.117   2.885\n",
       "9997            13.144               16.430   3.286\n",
       "9998            13.144               20.373   7.229\n",
       "9999            13.144               16.430   3.286\n",
       "\n",
       "[10000 rows x 3 columns]"
      ]
     },
     "execution_count": 208,
     "metadata": {},
     "output_type": "execute_result"
    }
   ],
   "source": [
    "newdata[['Purchasing Price','Planned Sales Price','Profit']]"
   ]
  },
  {
   "cell_type": "markdown",
   "id": "3df9175d",
   "metadata": {},
   "source": [
    "### check 3 columns"
   ]
  },
  {
   "cell_type": "code",
   "execution_count": 209,
   "id": "3aa2080a",
   "metadata": {},
   "outputs": [
    {
     "data": {
      "text/plain": [
       "Purchasing Price       float64\n",
       "Planned Sales Price    float64\n",
       "Profit                 float64\n",
       "dtype: object"
      ]
     },
     "execution_count": 209,
     "metadata": {},
     "output_type": "execute_result"
    }
   ],
   "source": [
    "newdata[['Purchasing Price','Planned Sales Price','Profit']].dtypes"
   ]
  },
  {
   "cell_type": "code",
   "execution_count": 210,
   "id": "9a067c56",
   "metadata": {},
   "outputs": [
    {
     "data": {
      "text/plain": [
       "Client Segment          object\n",
       "Country                 object\n",
       "Product ID              object\n",
       "Product Category        object\n",
       "Purchasing Price       float64\n",
       "Order Date              object\n",
       "Delivery Date           object\n",
       "Service Level            int64\n",
       "Quantity                 int64\n",
       "Planned Sales Price    float64\n",
       "Profit                 float64\n",
       "dtype: object"
      ]
     },
     "execution_count": 210,
     "metadata": {},
     "output_type": "execute_result"
    }
   ],
   "source": [
    "newdata.dtypes"
   ]
  },
  {
   "cell_type": "code",
   "execution_count": 211,
   "id": "c9a29bae",
   "metadata": {},
   "outputs": [
    {
     "data": {
      "text/html": [
       "<div>\n",
       "<style scoped>\n",
       "    .dataframe tbody tr th:only-of-type {\n",
       "        vertical-align: middle;\n",
       "    }\n",
       "\n",
       "    .dataframe tbody tr th {\n",
       "        vertical-align: top;\n",
       "    }\n",
       "\n",
       "    .dataframe thead th {\n",
       "        text-align: right;\n",
       "    }\n",
       "</style>\n",
       "<table border=\"1\" class=\"dataframe\">\n",
       "  <thead>\n",
       "    <tr style=\"text-align: right;\">\n",
       "      <th></th>\n",
       "      <th>Client Segment</th>\n",
       "      <th>Country</th>\n",
       "      <th>Product ID</th>\n",
       "      <th>Product Category</th>\n",
       "      <th>Purchasing Price</th>\n",
       "      <th>Order Date</th>\n",
       "      <th>Delivery Date</th>\n",
       "      <th>Service Level</th>\n",
       "      <th>Quantity</th>\n",
       "      <th>Planned Sales Price</th>\n",
       "      <th>Profit</th>\n",
       "    </tr>\n",
       "  </thead>\n",
       "  <tbody>\n",
       "    <tr>\n",
       "      <th>0</th>\n",
       "      <td>Corporate</td>\n",
       "      <td>United Arab Emirates</td>\n",
       "      <td>Product 7</td>\n",
       "      <td>Electronics</td>\n",
       "      <td>36.081</td>\n",
       "      <td>7-Sep-20</td>\n",
       "      <td>10-Sep-20</td>\n",
       "      <td>3</td>\n",
       "      <td>7</td>\n",
       "      <td>55.926</td>\n",
       "      <td>19.845</td>\n",
       "    </tr>\n",
       "    <tr>\n",
       "      <th>1</th>\n",
       "      <td>Consumer</td>\n",
       "      <td>Morocco</td>\n",
       "      <td>Product 14</td>\n",
       "      <td>Furniture</td>\n",
       "      <td>21.430</td>\n",
       "      <td>23-Sep-20</td>\n",
       "      <td>25-Sep-20</td>\n",
       "      <td>2</td>\n",
       "      <td>5</td>\n",
       "      <td>28.502</td>\n",
       "      <td>7.072</td>\n",
       "    </tr>\n",
       "    <tr>\n",
       "      <th>2</th>\n",
       "      <td>Consumer</td>\n",
       "      <td>Saudi Arabia</td>\n",
       "      <td>Product 12</td>\n",
       "      <td>Furniture</td>\n",
       "      <td>44.494</td>\n",
       "      <td>24-Sep-20</td>\n",
       "      <td>25-Sep-20</td>\n",
       "      <td>1</td>\n",
       "      <td>3</td>\n",
       "      <td>62.292</td>\n",
       "      <td>17.798</td>\n",
       "    </tr>\n",
       "    <tr>\n",
       "      <th>3</th>\n",
       "      <td>Consumer</td>\n",
       "      <td>Algeria</td>\n",
       "      <td>Product 20</td>\n",
       "      <td>Computer &amp; Laptop</td>\n",
       "      <td>12.734</td>\n",
       "      <td>24-Apr-20</td>\n",
       "      <td>25-Apr-20</td>\n",
       "      <td>1</td>\n",
       "      <td>1</td>\n",
       "      <td>16.554</td>\n",
       "      <td>3.820</td>\n",
       "    </tr>\n",
       "    <tr>\n",
       "      <th>4</th>\n",
       "      <td>Consumer</td>\n",
       "      <td>Egypt</td>\n",
       "      <td>Product 14</td>\n",
       "      <td>Furniture</td>\n",
       "      <td>21.430</td>\n",
       "      <td>17-Jan-20</td>\n",
       "      <td>20-Jan-20</td>\n",
       "      <td>3</td>\n",
       "      <td>1</td>\n",
       "      <td>26.788</td>\n",
       "      <td>5.358</td>\n",
       "    </tr>\n",
       "  </tbody>\n",
       "</table>\n",
       "</div>"
      ],
      "text/plain": [
       "  Client Segment               Country  Product ID   Product Category  \\\n",
       "0      Corporate  United Arab Emirates   Product 7        Electronics   \n",
       "1       Consumer               Morocco  Product 14          Furniture   \n",
       "2       Consumer          Saudi Arabia  Product 12          Furniture   \n",
       "3       Consumer               Algeria  Product 20  Computer & Laptop   \n",
       "4       Consumer                 Egypt  Product 14          Furniture   \n",
       "\n",
       "   Purchasing Price Order Date Delivery Date  Service Level  Quantity  \\\n",
       "0            36.081   7-Sep-20     10-Sep-20              3         7   \n",
       "1            21.430  23-Sep-20     25-Sep-20              2         5   \n",
       "2            44.494  24-Sep-20     25-Sep-20              1         3   \n",
       "3            12.734  24-Apr-20     25-Apr-20              1         1   \n",
       "4            21.430  17-Jan-20     20-Jan-20              3         1   \n",
       "\n",
       "   Planned Sales Price  Profit  \n",
       "0               55.926  19.845  \n",
       "1               28.502   7.072  \n",
       "2               62.292  17.798  \n",
       "3               16.554   3.820  \n",
       "4               26.788   5.358  "
      ]
     },
     "execution_count": 211,
     "metadata": {},
     "output_type": "execute_result"
    }
   ],
   "source": [
    "newdata.head()"
   ]
  },
  {
   "cell_type": "markdown",
   "id": "37cc9c6b",
   "metadata": {},
   "source": [
    "### Convert the product category into int"
   ]
  },
  {
   "cell_type": "code",
   "execution_count": 212,
   "id": "b0e8ceb9",
   "metadata": {},
   "outputs": [],
   "source": [
    "from sklearn.preprocessing import LabelEncoder\n",
    "le = LabelEncoder()\n",
    "le.fit(newdata['Product Category'])\n",
    "le.classes_\n",
    "newdata['Product Category'] = le.transform(newdata['Product Category'])"
   ]
  },
  {
   "cell_type": "code",
   "execution_count": 213,
   "id": "81107ae7",
   "metadata": {},
   "outputs": [
    {
     "data": {
      "text/plain": [
       "0    1\n",
       "1    2\n",
       "2    2\n",
       "3    0\n",
       "4    2\n",
       "5    2\n",
       "6    2\n",
       "Name: Product Category, dtype: int32"
      ]
     },
     "execution_count": 213,
     "metadata": {},
     "output_type": "execute_result"
    }
   ],
   "source": [
    "newdata['Product Category'].head(7)"
   ]
  },
  {
   "cell_type": "code",
   "execution_count": 214,
   "id": "eb1c93a4",
   "metadata": {},
   "outputs": [
    {
     "data": {
      "text/plain": [
       "dtype('int32')"
      ]
     },
     "execution_count": 214,
     "metadata": {},
     "output_type": "execute_result"
    }
   ],
   "source": [
    "newdata['Product Category'].dtypes"
   ]
  },
  {
   "cell_type": "markdown",
   "id": "d8b0f062",
   "metadata": {},
   "source": [
    "## Convert the Client Segment to two columns and uint8 >>>>>>>>>>>>"
   ]
  },
  {
   "cell_type": "code",
   "execution_count": 215,
   "id": "b295cc0c",
   "metadata": {},
   "outputs": [
    {
     "data": {
      "text/html": [
       "<div>\n",
       "<style scoped>\n",
       "    .dataframe tbody tr th:only-of-type {\n",
       "        vertical-align: middle;\n",
       "    }\n",
       "\n",
       "    .dataframe tbody tr th {\n",
       "        vertical-align: top;\n",
       "    }\n",
       "\n",
       "    .dataframe thead th {\n",
       "        text-align: right;\n",
       "    }\n",
       "</style>\n",
       "<table border=\"1\" class=\"dataframe\">\n",
       "  <thead>\n",
       "    <tr style=\"text-align: right;\">\n",
       "      <th></th>\n",
       "      <th>Consumer</th>\n",
       "      <th>Corporate</th>\n",
       "    </tr>\n",
       "  </thead>\n",
       "  <tbody>\n",
       "    <tr>\n",
       "      <th>0</th>\n",
       "      <td>0</td>\n",
       "      <td>1</td>\n",
       "    </tr>\n",
       "    <tr>\n",
       "      <th>1</th>\n",
       "      <td>1</td>\n",
       "      <td>0</td>\n",
       "    </tr>\n",
       "    <tr>\n",
       "      <th>2</th>\n",
       "      <td>1</td>\n",
       "      <td>0</td>\n",
       "    </tr>\n",
       "    <tr>\n",
       "      <th>3</th>\n",
       "      <td>1</td>\n",
       "      <td>0</td>\n",
       "    </tr>\n",
       "    <tr>\n",
       "      <th>4</th>\n",
       "      <td>1</td>\n",
       "      <td>0</td>\n",
       "    </tr>\n",
       "  </tbody>\n",
       "</table>\n",
       "</div>"
      ],
      "text/plain": [
       "   Consumer  Corporate\n",
       "0         0          1\n",
       "1         1          0\n",
       "2         1          0\n",
       "3         1          0\n",
       "4         1          0"
      ]
     },
     "execution_count": 215,
     "metadata": {},
     "output_type": "execute_result"
    }
   ],
   "source": [
    "newdata[['Consumer','Corporate']] = pd.get_dummies(newdata['Client Segment'],columns=['Client Segment'])\n",
    "newdata[['Consumer','Corporate']].head()"
   ]
  },
  {
   "cell_type": "code",
   "execution_count": 216,
   "id": "3850e31d",
   "metadata": {},
   "outputs": [
    {
     "data": {
      "text/html": [
       "<div>\n",
       "<style scoped>\n",
       "    .dataframe tbody tr th:only-of-type {\n",
       "        vertical-align: middle;\n",
       "    }\n",
       "\n",
       "    .dataframe tbody tr th {\n",
       "        vertical-align: top;\n",
       "    }\n",
       "\n",
       "    .dataframe thead th {\n",
       "        text-align: right;\n",
       "    }\n",
       "</style>\n",
       "<table border=\"1\" class=\"dataframe\">\n",
       "  <thead>\n",
       "    <tr style=\"text-align: right;\">\n",
       "      <th></th>\n",
       "      <th>Client Segment</th>\n",
       "      <th>Country</th>\n",
       "      <th>Product ID</th>\n",
       "      <th>Product Category</th>\n",
       "      <th>Purchasing Price</th>\n",
       "      <th>Order Date</th>\n",
       "      <th>Delivery Date</th>\n",
       "      <th>Service Level</th>\n",
       "      <th>Quantity</th>\n",
       "      <th>Planned Sales Price</th>\n",
       "      <th>Profit</th>\n",
       "      <th>Consumer</th>\n",
       "      <th>Corporate</th>\n",
       "    </tr>\n",
       "  </thead>\n",
       "  <tbody>\n",
       "    <tr>\n",
       "      <th>0</th>\n",
       "      <td>Corporate</td>\n",
       "      <td>United Arab Emirates</td>\n",
       "      <td>Product 7</td>\n",
       "      <td>1</td>\n",
       "      <td>36.081</td>\n",
       "      <td>7-Sep-20</td>\n",
       "      <td>10-Sep-20</td>\n",
       "      <td>3</td>\n",
       "      <td>7</td>\n",
       "      <td>55.926</td>\n",
       "      <td>19.845</td>\n",
       "      <td>0</td>\n",
       "      <td>1</td>\n",
       "    </tr>\n",
       "    <tr>\n",
       "      <th>1</th>\n",
       "      <td>Consumer</td>\n",
       "      <td>Morocco</td>\n",
       "      <td>Product 14</td>\n",
       "      <td>2</td>\n",
       "      <td>21.430</td>\n",
       "      <td>23-Sep-20</td>\n",
       "      <td>25-Sep-20</td>\n",
       "      <td>2</td>\n",
       "      <td>5</td>\n",
       "      <td>28.502</td>\n",
       "      <td>7.072</td>\n",
       "      <td>1</td>\n",
       "      <td>0</td>\n",
       "    </tr>\n",
       "    <tr>\n",
       "      <th>2</th>\n",
       "      <td>Consumer</td>\n",
       "      <td>Saudi Arabia</td>\n",
       "      <td>Product 12</td>\n",
       "      <td>2</td>\n",
       "      <td>44.494</td>\n",
       "      <td>24-Sep-20</td>\n",
       "      <td>25-Sep-20</td>\n",
       "      <td>1</td>\n",
       "      <td>3</td>\n",
       "      <td>62.292</td>\n",
       "      <td>17.798</td>\n",
       "      <td>1</td>\n",
       "      <td>0</td>\n",
       "    </tr>\n",
       "    <tr>\n",
       "      <th>3</th>\n",
       "      <td>Consumer</td>\n",
       "      <td>Algeria</td>\n",
       "      <td>Product 20</td>\n",
       "      <td>0</td>\n",
       "      <td>12.734</td>\n",
       "      <td>24-Apr-20</td>\n",
       "      <td>25-Apr-20</td>\n",
       "      <td>1</td>\n",
       "      <td>1</td>\n",
       "      <td>16.554</td>\n",
       "      <td>3.820</td>\n",
       "      <td>1</td>\n",
       "      <td>0</td>\n",
       "    </tr>\n",
       "    <tr>\n",
       "      <th>4</th>\n",
       "      <td>Consumer</td>\n",
       "      <td>Egypt</td>\n",
       "      <td>Product 14</td>\n",
       "      <td>2</td>\n",
       "      <td>21.430</td>\n",
       "      <td>17-Jan-20</td>\n",
       "      <td>20-Jan-20</td>\n",
       "      <td>3</td>\n",
       "      <td>1</td>\n",
       "      <td>26.788</td>\n",
       "      <td>5.358</td>\n",
       "      <td>1</td>\n",
       "      <td>0</td>\n",
       "    </tr>\n",
       "  </tbody>\n",
       "</table>\n",
       "</div>"
      ],
      "text/plain": [
       "  Client Segment               Country  Product ID  Product Category  \\\n",
       "0      Corporate  United Arab Emirates   Product 7                 1   \n",
       "1       Consumer               Morocco  Product 14                 2   \n",
       "2       Consumer          Saudi Arabia  Product 12                 2   \n",
       "3       Consumer               Algeria  Product 20                 0   \n",
       "4       Consumer                 Egypt  Product 14                 2   \n",
       "\n",
       "   Purchasing Price Order Date Delivery Date  Service Level  Quantity  \\\n",
       "0            36.081   7-Sep-20     10-Sep-20              3         7   \n",
       "1            21.430  23-Sep-20     25-Sep-20              2         5   \n",
       "2            44.494  24-Sep-20     25-Sep-20              1         3   \n",
       "3            12.734  24-Apr-20     25-Apr-20              1         1   \n",
       "4            21.430  17-Jan-20     20-Jan-20              3         1   \n",
       "\n",
       "   Planned Sales Price  Profit  Consumer  Corporate  \n",
       "0               55.926  19.845         0          1  \n",
       "1               28.502   7.072         1          0  \n",
       "2               62.292  17.798         1          0  \n",
       "3               16.554   3.820         1          0  \n",
       "4               26.788   5.358         1          0  "
      ]
     },
     "execution_count": 216,
     "metadata": {},
     "output_type": "execute_result"
    }
   ],
   "source": [
    "newdata.head()"
   ]
  },
  {
   "cell_type": "code",
   "execution_count": 217,
   "id": "e204cee7",
   "metadata": {},
   "outputs": [
    {
     "data": {
      "text/plain": [
       "Client Segment          object\n",
       "Country                 object\n",
       "Product ID              object\n",
       "Product Category         int32\n",
       "Purchasing Price       float64\n",
       "Order Date              object\n",
       "Delivery Date           object\n",
       "Service Level            int64\n",
       "Quantity                 int64\n",
       "Planned Sales Price    float64\n",
       "Profit                 float64\n",
       "Consumer                 uint8\n",
       "Corporate                uint8\n",
       "dtype: object"
      ]
     },
     "execution_count": 217,
     "metadata": {},
     "output_type": "execute_result"
    }
   ],
   "source": [
    "newdata.dtypes"
   ]
  },
  {
   "cell_type": "markdown",
   "id": "d26e5437",
   "metadata": {},
   "source": [
    "#### Clarify the extent to which data are related to each other by correlation coefficient and heatmap"
   ]
  },
  {
   "cell_type": "code",
   "execution_count": 218,
   "id": "619665ea",
   "metadata": {},
   "outputs": [
    {
     "data": {
      "text/html": [
       "<div>\n",
       "<style scoped>\n",
       "    .dataframe tbody tr th:only-of-type {\n",
       "        vertical-align: middle;\n",
       "    }\n",
       "\n",
       "    .dataframe tbody tr th {\n",
       "        vertical-align: top;\n",
       "    }\n",
       "\n",
       "    .dataframe thead th {\n",
       "        text-align: right;\n",
       "    }\n",
       "</style>\n",
       "<table border=\"1\" class=\"dataframe\">\n",
       "  <thead>\n",
       "    <tr style=\"text-align: right;\">\n",
       "      <th></th>\n",
       "      <th>Product Category</th>\n",
       "      <th>Purchasing Price</th>\n",
       "      <th>Service Level</th>\n",
       "      <th>Quantity</th>\n",
       "      <th>Planned Sales Price</th>\n",
       "      <th>Profit</th>\n",
       "      <th>Consumer</th>\n",
       "      <th>Corporate</th>\n",
       "    </tr>\n",
       "  </thead>\n",
       "  <tbody>\n",
       "    <tr>\n",
       "      <th>Product Category</th>\n",
       "      <td>1.000000</td>\n",
       "      <td>0.741838</td>\n",
       "      <td>0.019821</td>\n",
       "      <td>0.001332</td>\n",
       "      <td>0.723470</td>\n",
       "      <td>0.547838</td>\n",
       "      <td>0.009192</td>\n",
       "      <td>-0.009192</td>\n",
       "    </tr>\n",
       "    <tr>\n",
       "      <th>Purchasing Price</th>\n",
       "      <td>0.741838</td>\n",
       "      <td>1.000000</td>\n",
       "      <td>0.020747</td>\n",
       "      <td>0.009450</td>\n",
       "      <td>0.975930</td>\n",
       "      <td>0.740616</td>\n",
       "      <td>-0.000728</td>\n",
       "      <td>0.000728</td>\n",
       "    </tr>\n",
       "    <tr>\n",
       "      <th>Service Level</th>\n",
       "      <td>0.019821</td>\n",
       "      <td>0.020747</td>\n",
       "      <td>1.000000</td>\n",
       "      <td>0.012210</td>\n",
       "      <td>0.020004</td>\n",
       "      <td>0.014615</td>\n",
       "      <td>-0.005996</td>\n",
       "      <td>0.005996</td>\n",
       "    </tr>\n",
       "    <tr>\n",
       "      <th>Quantity</th>\n",
       "      <td>0.001332</td>\n",
       "      <td>0.009450</td>\n",
       "      <td>0.012210</td>\n",
       "      <td>1.000000</td>\n",
       "      <td>0.009017</td>\n",
       "      <td>0.006366</td>\n",
       "      <td>-0.663450</td>\n",
       "      <td>0.663450</td>\n",
       "    </tr>\n",
       "    <tr>\n",
       "      <th>Planned Sales Price</th>\n",
       "      <td>0.723470</td>\n",
       "      <td>0.975930</td>\n",
       "      <td>0.020004</td>\n",
       "      <td>0.009017</td>\n",
       "      <td>1.000000</td>\n",
       "      <td>0.869326</td>\n",
       "      <td>-0.032144</td>\n",
       "      <td>0.032144</td>\n",
       "    </tr>\n",
       "    <tr>\n",
       "      <th>Profit</th>\n",
       "      <td>0.547838</td>\n",
       "      <td>0.740616</td>\n",
       "      <td>0.014615</td>\n",
       "      <td>0.006366</td>\n",
       "      <td>0.869326</td>\n",
       "      <td>1.000000</td>\n",
       "      <td>-0.097388</td>\n",
       "      <td>0.097388</td>\n",
       "    </tr>\n",
       "    <tr>\n",
       "      <th>Consumer</th>\n",
       "      <td>0.009192</td>\n",
       "      <td>-0.000728</td>\n",
       "      <td>-0.005996</td>\n",
       "      <td>-0.663450</td>\n",
       "      <td>-0.032144</td>\n",
       "      <td>-0.097388</td>\n",
       "      <td>1.000000</td>\n",
       "      <td>-1.000000</td>\n",
       "    </tr>\n",
       "    <tr>\n",
       "      <th>Corporate</th>\n",
       "      <td>-0.009192</td>\n",
       "      <td>0.000728</td>\n",
       "      <td>0.005996</td>\n",
       "      <td>0.663450</td>\n",
       "      <td>0.032144</td>\n",
       "      <td>0.097388</td>\n",
       "      <td>-1.000000</td>\n",
       "      <td>1.000000</td>\n",
       "    </tr>\n",
       "  </tbody>\n",
       "</table>\n",
       "</div>"
      ],
      "text/plain": [
       "                     Product Category  Purchasing Price  Service Level  \\\n",
       "Product Category             1.000000          0.741838       0.019821   \n",
       "Purchasing Price             0.741838          1.000000       0.020747   \n",
       "Service Level                0.019821          0.020747       1.000000   \n",
       "Quantity                     0.001332          0.009450       0.012210   \n",
       "Planned Sales Price          0.723470          0.975930       0.020004   \n",
       "Profit                       0.547838          0.740616       0.014615   \n",
       "Consumer                     0.009192         -0.000728      -0.005996   \n",
       "Corporate                   -0.009192          0.000728       0.005996   \n",
       "\n",
       "                     Quantity  Planned Sales Price    Profit  Consumer  \\\n",
       "Product Category     0.001332             0.723470  0.547838  0.009192   \n",
       "Purchasing Price     0.009450             0.975930  0.740616 -0.000728   \n",
       "Service Level        0.012210             0.020004  0.014615 -0.005996   \n",
       "Quantity             1.000000             0.009017  0.006366 -0.663450   \n",
       "Planned Sales Price  0.009017             1.000000  0.869326 -0.032144   \n",
       "Profit               0.006366             0.869326  1.000000 -0.097388   \n",
       "Consumer            -0.663450            -0.032144 -0.097388  1.000000   \n",
       "Corporate            0.663450             0.032144  0.097388 -1.000000   \n",
       "\n",
       "                     Corporate  \n",
       "Product Category     -0.009192  \n",
       "Purchasing Price      0.000728  \n",
       "Service Level         0.005996  \n",
       "Quantity              0.663450  \n",
       "Planned Sales Price   0.032144  \n",
       "Profit                0.097388  \n",
       "Consumer             -1.000000  \n",
       "Corporate             1.000000  "
      ]
     },
     "execution_count": 218,
     "metadata": {},
     "output_type": "execute_result"
    }
   ],
   "source": [
    "c=newdata.corr()\n",
    "c"
   ]
  },
  {
   "cell_type": "code",
   "execution_count": 219,
   "id": "b67bed20",
   "metadata": {},
   "outputs": [
    {
     "data": {
      "text/plain": [
       "<AxesSubplot:>"
      ]
     },
     "execution_count": 219,
     "metadata": {},
     "output_type": "execute_result"
    },
    {
     "data": {
      "image/png": "[encoded data removed]",
      "text/plain": [
       "<Figure size 720x504 with 2 Axes>"
      ]
     },
     "metadata": {
      "needs_background": "light"
     },
     "output_type": "display_data"
    }
   ],
   "source": [
    "plt.figure(figsize=(10,7))\n",
    "c=newdata.corr()\n",
    "sns.heatmap(c)"
   ]
  },
  {
   "cell_type": "markdown",
   "id": "f3f90792",
   "metadata": {},
   "source": [
    "## >>>>>>>>>>>>>>>>>>>>>>>>>>>>>>>>>"
   ]
  },
  {
   "cell_type": "code",
   "execution_count": 220,
   "id": "6a2575d4",
   "metadata": {},
   "outputs": [],
   "source": [
    "newdata = newdata.drop(['Service Level','Quantity','Delivery Date','Client Segment'],axis=1)"
   ]
  },
  {
   "cell_type": "code",
   "execution_count": 221,
   "id": "23b02793",
   "metadata": {},
   "outputs": [
    {
     "data": {
      "text/html": [
       "<div>\n",
       "<style scoped>\n",
       "    .dataframe tbody tr th:only-of-type {\n",
       "        vertical-align: middle;\n",
       "    }\n",
       "\n",
       "    .dataframe tbody tr th {\n",
       "        vertical-align: top;\n",
       "    }\n",
       "\n",
       "    .dataframe thead th {\n",
       "        text-align: right;\n",
       "    }\n",
       "</style>\n",
       "<table border=\"1\" class=\"dataframe\">\n",
       "  <thead>\n",
       "    <tr style=\"text-align: right;\">\n",
       "      <th></th>\n",
       "      <th>Country</th>\n",
       "      <th>Product ID</th>\n",
       "      <th>Product Category</th>\n",
       "      <th>Purchasing Price</th>\n",
       "      <th>Order Date</th>\n",
       "      <th>Planned Sales Price</th>\n",
       "      <th>Profit</th>\n",
       "      <th>Consumer</th>\n",
       "      <th>Corporate</th>\n",
       "    </tr>\n",
       "  </thead>\n",
       "  <tbody>\n",
       "    <tr>\n",
       "      <th>0</th>\n",
       "      <td>United Arab Emirates</td>\n",
       "      <td>Product 7</td>\n",
       "      <td>1</td>\n",
       "      <td>36.081</td>\n",
       "      <td>7-Sep-20</td>\n",
       "      <td>55.926</td>\n",
       "      <td>19.845</td>\n",
       "      <td>0</td>\n",
       "      <td>1</td>\n",
       "    </tr>\n",
       "    <tr>\n",
       "      <th>1</th>\n",
       "      <td>Morocco</td>\n",
       "      <td>Product 14</td>\n",
       "      <td>2</td>\n",
       "      <td>21.430</td>\n",
       "      <td>23-Sep-20</td>\n",
       "      <td>28.502</td>\n",
       "      <td>7.072</td>\n",
       "      <td>1</td>\n",
       "      <td>0</td>\n",
       "    </tr>\n",
       "    <tr>\n",
       "      <th>2</th>\n",
       "      <td>Saudi Arabia</td>\n",
       "      <td>Product 12</td>\n",
       "      <td>2</td>\n",
       "      <td>44.494</td>\n",
       "      <td>24-Sep-20</td>\n",
       "      <td>62.292</td>\n",
       "      <td>17.798</td>\n",
       "      <td>1</td>\n",
       "      <td>0</td>\n",
       "    </tr>\n",
       "    <tr>\n",
       "      <th>3</th>\n",
       "      <td>Algeria</td>\n",
       "      <td>Product 20</td>\n",
       "      <td>0</td>\n",
       "      <td>12.734</td>\n",
       "      <td>24-Apr-20</td>\n",
       "      <td>16.554</td>\n",
       "      <td>3.820</td>\n",
       "      <td>1</td>\n",
       "      <td>0</td>\n",
       "    </tr>\n",
       "    <tr>\n",
       "      <th>4</th>\n",
       "      <td>Egypt</td>\n",
       "      <td>Product 14</td>\n",
       "      <td>2</td>\n",
       "      <td>21.430</td>\n",
       "      <td>17-Jan-20</td>\n",
       "      <td>26.788</td>\n",
       "      <td>5.358</td>\n",
       "      <td>1</td>\n",
       "      <td>0</td>\n",
       "    </tr>\n",
       "  </tbody>\n",
       "</table>\n",
       "</div>"
      ],
      "text/plain": [
       "                Country  Product ID  Product Category  Purchasing Price  \\\n",
       "0  United Arab Emirates   Product 7                 1            36.081   \n",
       "1               Morocco  Product 14                 2            21.430   \n",
       "2          Saudi Arabia  Product 12                 2            44.494   \n",
       "3               Algeria  Product 20                 0            12.734   \n",
       "4                 Egypt  Product 14                 2            21.430   \n",
       "\n",
       "  Order Date  Planned Sales Price  Profit  Consumer  Corporate  \n",
       "0   7-Sep-20               55.926  19.845         0          1  \n",
       "1  23-Sep-20               28.502   7.072         1          0  \n",
       "2  24-Sep-20               62.292  17.798         1          0  \n",
       "3  24-Apr-20               16.554   3.820         1          0  \n",
       "4  17-Jan-20               26.788   5.358         1          0  "
      ]
     },
     "execution_count": 221,
     "metadata": {},
     "output_type": "execute_result"
    }
   ],
   "source": [
    "newdata.head()\n"
   ]
  },
  {
   "cell_type": "markdown",
   "id": "f7674338",
   "metadata": {},
   "source": [
    "## Convert the Country to sex columns and uint8 >>>>>>>>>>>>"
   ]
  },
  {
   "cell_type": "code",
   "execution_count": 222,
   "id": "f1dbbe72",
   "metadata": {},
   "outputs": [
    {
     "data": {
      "text/html": [
       "<div>\n",
       "<style scoped>\n",
       "    .dataframe tbody tr th:only-of-type {\n",
       "        vertical-align: middle;\n",
       "    }\n",
       "\n",
       "    .dataframe tbody tr th {\n",
       "        vertical-align: top;\n",
       "    }\n",
       "\n",
       "    .dataframe thead th {\n",
       "        text-align: right;\n",
       "    }\n",
       "</style>\n",
       "<table border=\"1\" class=\"dataframe\">\n",
       "  <thead>\n",
       "    <tr style=\"text-align: right;\">\n",
       "      <th></th>\n",
       "      <th>Algeria</th>\n",
       "      <th>Egypt</th>\n",
       "      <th>Iraq</th>\n",
       "      <th>Morocco</th>\n",
       "      <th>Saudi Arabia</th>\n",
       "      <th>United Arab Emirates</th>\n",
       "    </tr>\n",
       "  </thead>\n",
       "  <tbody>\n",
       "    <tr>\n",
       "      <th>0</th>\n",
       "      <td>0</td>\n",
       "      <td>0</td>\n",
       "      <td>0</td>\n",
       "      <td>0</td>\n",
       "      <td>0</td>\n",
       "      <td>1</td>\n",
       "    </tr>\n",
       "    <tr>\n",
       "      <th>1</th>\n",
       "      <td>0</td>\n",
       "      <td>0</td>\n",
       "      <td>0</td>\n",
       "      <td>1</td>\n",
       "      <td>0</td>\n",
       "      <td>0</td>\n",
       "    </tr>\n",
       "    <tr>\n",
       "      <th>2</th>\n",
       "      <td>0</td>\n",
       "      <td>0</td>\n",
       "      <td>0</td>\n",
       "      <td>0</td>\n",
       "      <td>1</td>\n",
       "      <td>0</td>\n",
       "    </tr>\n",
       "    <tr>\n",
       "      <th>3</th>\n",
       "      <td>1</td>\n",
       "      <td>0</td>\n",
       "      <td>0</td>\n",
       "      <td>0</td>\n",
       "      <td>0</td>\n",
       "      <td>0</td>\n",
       "    </tr>\n",
       "    <tr>\n",
       "      <th>4</th>\n",
       "      <td>0</td>\n",
       "      <td>1</td>\n",
       "      <td>0</td>\n",
       "      <td>0</td>\n",
       "      <td>0</td>\n",
       "      <td>0</td>\n",
       "    </tr>\n",
       "    <tr>\n",
       "      <th>...</th>\n",
       "      <td>...</td>\n",
       "      <td>...</td>\n",
       "      <td>...</td>\n",
       "      <td>...</td>\n",
       "      <td>...</td>\n",
       "      <td>...</td>\n",
       "    </tr>\n",
       "    <tr>\n",
       "      <th>9995</th>\n",
       "      <td>0</td>\n",
       "      <td>0</td>\n",
       "      <td>0</td>\n",
       "      <td>1</td>\n",
       "      <td>0</td>\n",
       "      <td>0</td>\n",
       "    </tr>\n",
       "    <tr>\n",
       "      <th>9996</th>\n",
       "      <td>0</td>\n",
       "      <td>0</td>\n",
       "      <td>1</td>\n",
       "      <td>0</td>\n",
       "      <td>0</td>\n",
       "      <td>0</td>\n",
       "    </tr>\n",
       "    <tr>\n",
       "      <th>9997</th>\n",
       "      <td>0</td>\n",
       "      <td>1</td>\n",
       "      <td>0</td>\n",
       "      <td>0</td>\n",
       "      <td>0</td>\n",
       "      <td>0</td>\n",
       "    </tr>\n",
       "    <tr>\n",
       "      <th>9998</th>\n",
       "      <td>0</td>\n",
       "      <td>0</td>\n",
       "      <td>0</td>\n",
       "      <td>0</td>\n",
       "      <td>0</td>\n",
       "      <td>1</td>\n",
       "    </tr>\n",
       "    <tr>\n",
       "      <th>9999</th>\n",
       "      <td>0</td>\n",
       "      <td>1</td>\n",
       "      <td>0</td>\n",
       "      <td>0</td>\n",
       "      <td>0</td>\n",
       "      <td>0</td>\n",
       "    </tr>\n",
       "  </tbody>\n",
       "</table>\n",
       "<p>10000 rows × 6 columns</p>\n",
       "</div>"
      ],
      "text/plain": [
       "      Algeria  Egypt  Iraq  Morocco  Saudi Arabia  United Arab Emirates\n",
       "0           0      0     0        0             0                     1\n",
       "1           0      0     0        1             0                     0\n",
       "2           0      0     0        0             1                     0\n",
       "3           1      0     0        0             0                     0\n",
       "4           0      1     0        0             0                     0\n",
       "...       ...    ...   ...      ...           ...                   ...\n",
       "9995        0      0     0        1             0                     0\n",
       "9996        0      0     1        0             0                     0\n",
       "9997        0      1     0        0             0                     0\n",
       "9998        0      0     0        0             0                     1\n",
       "9999        0      1     0        0             0                     0\n",
       "\n",
       "[10000 rows x 6 columns]"
      ]
     },
     "execution_count": 222,
     "metadata": {},
     "output_type": "execute_result"
    }
   ],
   "source": [
    "c=pd.get_dummies(newdata['Country'],columns=['Country'])\n",
    "c"
   ]
  },
  {
   "cell_type": "code",
   "execution_count": 224,
   "id": "793a291d",
   "metadata": {},
   "outputs": [
    {
     "data": {
      "text/html": [
       "<div>\n",
       "<style scoped>\n",
       "    .dataframe tbody tr th:only-of-type {\n",
       "        vertical-align: middle;\n",
       "    }\n",
       "\n",
       "    .dataframe tbody tr th {\n",
       "        vertical-align: top;\n",
       "    }\n",
       "\n",
       "    .dataframe thead th {\n",
       "        text-align: right;\n",
       "    }\n",
       "</style>\n",
       "<table border=\"1\" class=\"dataframe\">\n",
       "  <thead>\n",
       "    <tr style=\"text-align: right;\">\n",
       "      <th></th>\n",
       "      <th>Country</th>\n",
       "      <th>Product ID</th>\n",
       "      <th>Product Category</th>\n",
       "      <th>Purchasing Price</th>\n",
       "      <th>Order Date</th>\n",
       "      <th>Planned Sales Price</th>\n",
       "      <th>Profit</th>\n",
       "      <th>Consumer</th>\n",
       "      <th>Corporate</th>\n",
       "    </tr>\n",
       "  </thead>\n",
       "  <tbody>\n",
       "    <tr>\n",
       "      <th>0</th>\n",
       "      <td>United Arab Emirates</td>\n",
       "      <td>Product 7</td>\n",
       "      <td>1</td>\n",
       "      <td>36.081</td>\n",
       "      <td>7-Sep-20</td>\n",
       "      <td>55.926</td>\n",
       "      <td>19.845</td>\n",
       "      <td>0</td>\n",
       "      <td>1</td>\n",
       "    </tr>\n",
       "    <tr>\n",
       "      <th>1</th>\n",
       "      <td>Morocco</td>\n",
       "      <td>Product 14</td>\n",
       "      <td>2</td>\n",
       "      <td>21.430</td>\n",
       "      <td>23-Sep-20</td>\n",
       "      <td>28.502</td>\n",
       "      <td>7.072</td>\n",
       "      <td>1</td>\n",
       "      <td>0</td>\n",
       "    </tr>\n",
       "    <tr>\n",
       "      <th>2</th>\n",
       "      <td>Saudi Arabia</td>\n",
       "      <td>Product 12</td>\n",
       "      <td>2</td>\n",
       "      <td>44.494</td>\n",
       "      <td>24-Sep-20</td>\n",
       "      <td>62.292</td>\n",
       "      <td>17.798</td>\n",
       "      <td>1</td>\n",
       "      <td>0</td>\n",
       "    </tr>\n",
       "    <tr>\n",
       "      <th>3</th>\n",
       "      <td>Algeria</td>\n",
       "      <td>Product 20</td>\n",
       "      <td>0</td>\n",
       "      <td>12.734</td>\n",
       "      <td>24-Apr-20</td>\n",
       "      <td>16.554</td>\n",
       "      <td>3.820</td>\n",
       "      <td>1</td>\n",
       "      <td>0</td>\n",
       "    </tr>\n",
       "    <tr>\n",
       "      <th>4</th>\n",
       "      <td>Egypt</td>\n",
       "      <td>Product 14</td>\n",
       "      <td>2</td>\n",
       "      <td>21.430</td>\n",
       "      <td>17-Jan-20</td>\n",
       "      <td>26.788</td>\n",
       "      <td>5.358</td>\n",
       "      <td>1</td>\n",
       "      <td>0</td>\n",
       "    </tr>\n",
       "  </tbody>\n",
       "</table>\n",
       "</div>"
      ],
      "text/plain": [
       "                Country  Product ID  Product Category  Purchasing Price  \\\n",
       "0  United Arab Emirates   Product 7                 1            36.081   \n",
       "1               Morocco  Product 14                 2            21.430   \n",
       "2          Saudi Arabia  Product 12                 2            44.494   \n",
       "3               Algeria  Product 20                 0            12.734   \n",
       "4                 Egypt  Product 14                 2            21.430   \n",
       "\n",
       "  Order Date  Planned Sales Price  Profit  Consumer  Corporate  \n",
       "0   7-Sep-20               55.926  19.845         0          1  \n",
       "1  23-Sep-20               28.502   7.072         1          0  \n",
       "2  24-Sep-20               62.292  17.798         1          0  \n",
       "3  24-Apr-20               16.554   3.820         1          0  \n",
       "4  17-Jan-20               26.788   5.358         1          0  "
      ]
     },
     "execution_count": 224,
     "metadata": {},
     "output_type": "execute_result"
    }
   ],
   "source": [
    "newdata.head()"
   ]
  },
  {
   "cell_type": "code",
   "execution_count": 225,
   "id": "94e54ad0",
   "metadata": {},
   "outputs": [
    {
     "data": {
      "text/plain": [
       "Algeria  Egypt  Iraq  Morocco  Saudi Arabia  United Arab Emirates\n",
       "0        0      0     1        0             0                       1737\n",
       "                      0        0             1                       1665\n",
       "         1      0     0        0             0                       1659\n",
       "         0      1     0        0             0                       1654\n",
       "1        0      0     0        0             0                       1652\n",
       "0        0      0     0        1             0                       1633\n",
       "dtype: int64"
      ]
     },
     "execution_count": 225,
     "metadata": {},
     "output_type": "execute_result"
    }
   ],
   "source": [
    "c.value_counts()"
   ]
  },
  {
   "cell_type": "markdown",
   "id": "d23c5e04",
   "metadata": {},
   "source": [
    "## convert Product ID to int32 and check correlation"
   ]
  },
  {
   "cell_type": "code",
   "execution_count": 229,
   "id": "fcbf6fe3",
   "metadata": {},
   "outputs": [
    {
     "data": {
      "text/plain": [
       "0       17\n",
       "1        5\n",
       "2        3\n",
       "3       12\n",
       "4        5\n",
       "        ..\n",
       "9995     2\n",
       "9996    14\n",
       "9997    11\n",
       "9998    11\n",
       "9999    11\n",
       "Name: Product ID, Length: 10000, dtype: int64"
      ]
     },
     "execution_count": 229,
     "metadata": {},
     "output_type": "execute_result"
    }
   ],
   "source": [
    "from sklearn.preprocessing import LabelEncoder\n",
    "le = LabelEncoder()\n",
    "le.fit(newdata['Product ID'])\n",
    "le.classes_\n",
    "newdata['Product ID'] = le.transform(newdata['Product ID'])\n",
    "newdata['Product ID'] "
   ]
  },
  {
   "cell_type": "code",
   "execution_count": 230,
   "id": "b28e6ab9",
   "metadata": {},
   "outputs": [
    {
     "data": {
      "text/plain": [
       "dtype('int64')"
      ]
     },
     "execution_count": 230,
     "metadata": {},
     "output_type": "execute_result"
    }
   ],
   "source": [
    "newdata['Product ID'].dtypes"
   ]
  },
  {
   "cell_type": "code",
   "execution_count": 231,
   "id": "def65862",
   "metadata": {},
   "outputs": [
    {
     "data": {
      "text/html": [
       "<div>\n",
       "<style scoped>\n",
       "    .dataframe tbody tr th:only-of-type {\n",
       "        vertical-align: middle;\n",
       "    }\n",
       "\n",
       "    .dataframe tbody tr th {\n",
       "        vertical-align: top;\n",
       "    }\n",
       "\n",
       "    .dataframe thead th {\n",
       "        text-align: right;\n",
       "    }\n",
       "</style>\n",
       "<table border=\"1\" class=\"dataframe\">\n",
       "  <thead>\n",
       "    <tr style=\"text-align: right;\">\n",
       "      <th></th>\n",
       "      <th>Country</th>\n",
       "      <th>Product ID</th>\n",
       "      <th>Product Category</th>\n",
       "      <th>Purchasing Price</th>\n",
       "      <th>Order Date</th>\n",
       "      <th>Planned Sales Price</th>\n",
       "      <th>Profit</th>\n",
       "      <th>Consumer</th>\n",
       "      <th>Corporate</th>\n",
       "    </tr>\n",
       "  </thead>\n",
       "  <tbody>\n",
       "    <tr>\n",
       "      <th>0</th>\n",
       "      <td>United Arab Emirates</td>\n",
       "      <td>17</td>\n",
       "      <td>1</td>\n",
       "      <td>36.081</td>\n",
       "      <td>7-Sep-20</td>\n",
       "      <td>55.926</td>\n",
       "      <td>19.845</td>\n",
       "      <td>0</td>\n",
       "      <td>1</td>\n",
       "    </tr>\n",
       "    <tr>\n",
       "      <th>1</th>\n",
       "      <td>Morocco</td>\n",
       "      <td>5</td>\n",
       "      <td>2</td>\n",
       "      <td>21.430</td>\n",
       "      <td>23-Sep-20</td>\n",
       "      <td>28.502</td>\n",
       "      <td>7.072</td>\n",
       "      <td>1</td>\n",
       "      <td>0</td>\n",
       "    </tr>\n",
       "    <tr>\n",
       "      <th>2</th>\n",
       "      <td>Saudi Arabia</td>\n",
       "      <td>3</td>\n",
       "      <td>2</td>\n",
       "      <td>44.494</td>\n",
       "      <td>24-Sep-20</td>\n",
       "      <td>62.292</td>\n",
       "      <td>17.798</td>\n",
       "      <td>1</td>\n",
       "      <td>0</td>\n",
       "    </tr>\n",
       "    <tr>\n",
       "      <th>3</th>\n",
       "      <td>Algeria</td>\n",
       "      <td>12</td>\n",
       "      <td>0</td>\n",
       "      <td>12.734</td>\n",
       "      <td>24-Apr-20</td>\n",
       "      <td>16.554</td>\n",
       "      <td>3.820</td>\n",
       "      <td>1</td>\n",
       "      <td>0</td>\n",
       "    </tr>\n",
       "    <tr>\n",
       "      <th>4</th>\n",
       "      <td>Egypt</td>\n",
       "      <td>5</td>\n",
       "      <td>2</td>\n",
       "      <td>21.430</td>\n",
       "      <td>17-Jan-20</td>\n",
       "      <td>26.788</td>\n",
       "      <td>5.358</td>\n",
       "      <td>1</td>\n",
       "      <td>0</td>\n",
       "    </tr>\n",
       "  </tbody>\n",
       "</table>\n",
       "</div>"
      ],
      "text/plain": [
       "                Country  Product ID  Product Category  Purchasing Price  \\\n",
       "0  United Arab Emirates          17                 1            36.081   \n",
       "1               Morocco           5                 2            21.430   \n",
       "2          Saudi Arabia           3                 2            44.494   \n",
       "3               Algeria          12                 0            12.734   \n",
       "4                 Egypt           5                 2            21.430   \n",
       "\n",
       "  Order Date  Planned Sales Price  Profit  Consumer  Corporate  \n",
       "0   7-Sep-20               55.926  19.845         0          1  \n",
       "1  23-Sep-20               28.502   7.072         1          0  \n",
       "2  24-Sep-20               62.292  17.798         1          0  \n",
       "3  24-Apr-20               16.554   3.820         1          0  \n",
       "4  17-Jan-20               26.788   5.358         1          0  "
      ]
     },
     "execution_count": 231,
     "metadata": {},
     "output_type": "execute_result"
    }
   ],
   "source": [
    "newdata.head()"
   ]
  },
  {
   "cell_type": "code",
   "execution_count": 234,
   "id": "c1349d7b",
   "metadata": {},
   "outputs": [
    {
     "data": {
      "text/html": [
       "<div>\n",
       "<style scoped>\n",
       "    .dataframe tbody tr th:only-of-type {\n",
       "        vertical-align: middle;\n",
       "    }\n",
       "\n",
       "    .dataframe tbody tr th {\n",
       "        vertical-align: top;\n",
       "    }\n",
       "\n",
       "    .dataframe thead th {\n",
       "        text-align: right;\n",
       "    }\n",
       "</style>\n",
       "<table border=\"1\" class=\"dataframe\">\n",
       "  <thead>\n",
       "    <tr style=\"text-align: right;\">\n",
       "      <th></th>\n",
       "      <th>Product ID</th>\n",
       "      <th>Product Category</th>\n",
       "      <th>Purchasing Price</th>\n",
       "      <th>Planned Sales Price</th>\n",
       "      <th>Profit</th>\n",
       "      <th>Consumer</th>\n",
       "      <th>Corporate</th>\n",
       "    </tr>\n",
       "  </thead>\n",
       "  <tbody>\n",
       "    <tr>\n",
       "      <th>Product ID</th>\n",
       "      <td>1.000000</td>\n",
       "      <td>-0.098939</td>\n",
       "      <td>0.085867</td>\n",
       "      <td>0.082734</td>\n",
       "      <td>0.060309</td>\n",
       "      <td>0.002012</td>\n",
       "      <td>-0.002012</td>\n",
       "    </tr>\n",
       "    <tr>\n",
       "      <th>Product Category</th>\n",
       "      <td>-0.098939</td>\n",
       "      <td>1.000000</td>\n",
       "      <td>0.741838</td>\n",
       "      <td>0.723470</td>\n",
       "      <td>0.547838</td>\n",
       "      <td>0.009192</td>\n",
       "      <td>-0.009192</td>\n",
       "    </tr>\n",
       "    <tr>\n",
       "      <th>Purchasing Price</th>\n",
       "      <td>0.085867</td>\n",
       "      <td>0.741838</td>\n",
       "      <td>1.000000</td>\n",
       "      <td>0.975930</td>\n",
       "      <td>0.740616</td>\n",
       "      <td>-0.000728</td>\n",
       "      <td>0.000728</td>\n",
       "    </tr>\n",
       "    <tr>\n",
       "      <th>Planned Sales Price</th>\n",
       "      <td>0.082734</td>\n",
       "      <td>0.723470</td>\n",
       "      <td>0.975930</td>\n",
       "      <td>1.000000</td>\n",
       "      <td>0.869326</td>\n",
       "      <td>-0.032144</td>\n",
       "      <td>0.032144</td>\n",
       "    </tr>\n",
       "    <tr>\n",
       "      <th>Profit</th>\n",
       "      <td>0.060309</td>\n",
       "      <td>0.547838</td>\n",
       "      <td>0.740616</td>\n",
       "      <td>0.869326</td>\n",
       "      <td>1.000000</td>\n",
       "      <td>-0.097388</td>\n",
       "      <td>0.097388</td>\n",
       "    </tr>\n",
       "    <tr>\n",
       "      <th>Consumer</th>\n",
       "      <td>0.002012</td>\n",
       "      <td>0.009192</td>\n",
       "      <td>-0.000728</td>\n",
       "      <td>-0.032144</td>\n",
       "      <td>-0.097388</td>\n",
       "      <td>1.000000</td>\n",
       "      <td>-1.000000</td>\n",
       "    </tr>\n",
       "    <tr>\n",
       "      <th>Corporate</th>\n",
       "      <td>-0.002012</td>\n",
       "      <td>-0.009192</td>\n",
       "      <td>0.000728</td>\n",
       "      <td>0.032144</td>\n",
       "      <td>0.097388</td>\n",
       "      <td>-1.000000</td>\n",
       "      <td>1.000000</td>\n",
       "    </tr>\n",
       "  </tbody>\n",
       "</table>\n",
       "</div>"
      ],
      "text/plain": [
       "                     Product ID  Product Category  Purchasing Price  \\\n",
       "Product ID             1.000000         -0.098939          0.085867   \n",
       "Product Category      -0.098939          1.000000          0.741838   \n",
       "Purchasing Price       0.085867          0.741838          1.000000   \n",
       "Planned Sales Price    0.082734          0.723470          0.975930   \n",
       "Profit                 0.060309          0.547838          0.740616   \n",
       "Consumer               0.002012          0.009192         -0.000728   \n",
       "Corporate             -0.002012         -0.009192          0.000728   \n",
       "\n",
       "                     Planned Sales Price    Profit  Consumer  Corporate  \n",
       "Product ID                      0.082734  0.060309  0.002012  -0.002012  \n",
       "Product Category                0.723470  0.547838  0.009192  -0.009192  \n",
       "Purchasing Price                0.975930  0.740616 -0.000728   0.000728  \n",
       "Planned Sales Price             1.000000  0.869326 -0.032144   0.032144  \n",
       "Profit                          0.869326  1.000000 -0.097388   0.097388  \n",
       "Consumer                       -0.032144 -0.097388  1.000000  -1.000000  \n",
       "Corporate                       0.032144  0.097388 -1.000000   1.000000  "
      ]
     },
     "execution_count": 234,
     "metadata": {},
     "output_type": "execute_result"
    }
   ],
   "source": [
    "newdata.corr()"
   ]
  },
  {
   "cell_type": "code",
   "execution_count": 235,
   "id": "309c7840",
   "metadata": {},
   "outputs": [
    {
     "data": {
      "text/plain": [
       "<AxesSubplot:>"
      ]
     },
     "execution_count": 235,
     "metadata": {},
     "output_type": "execute_result"
    },
    {
     "data": {
      "image/png": "[encoded data removed]",
      "text/plain": [
       "<Figure size 720x504 with 2 Axes>"
      ]
     },
     "metadata": {
      "needs_background": "light"
     },
     "output_type": "display_data"
    }
   ],
   "source": [
    "b=newdata.corr()\n",
    "plt.figure(figsize=(10,7))\n",
    "sns.heatmap(b)"
   ]
  },
  {
   "cell_type": "code",
   "execution_count": 236,
   "id": "0a9b0533",
   "metadata": {},
   "outputs": [
    {
     "data": {
      "image/png": "[encoded data removed]",
      "text/plain": [
       "<Figure size 720x720 with 2 Axes>"
      ]
     },
     "metadata": {
      "needs_background": "light"
     },
     "output_type": "display_data"
    }
   ],
   "source": [
    "plt.figure(figsize = (10,10))\n",
    "sns.heatmap(newdata.corr(), annot=True, cmap=\"BuPu\", linewidth = 0.01)\n",
    "plt.title(\"Correlation Heatmap\")\n",
    "plt.show()"
   ]
  },
  {
   "cell_type": "markdown",
   "id": "91831ad3",
   "metadata": {},
   "source": [
    "## How to find a specific month in case the data was an object using regex"
   ]
  },
  {
   "cell_type": "code",
   "execution_count": 237,
   "id": "fb887c07",
   "metadata": {},
   "outputs": [
    {
     "data": {
      "text/plain": [
       "850"
      ]
     },
     "execution_count": 237,
     "metadata": {},
     "output_type": "execute_result"
    }
   ],
   "source": [
    "newdata[newdata['Order Date'].str.contains('.+Sep.+')]['Order Date'].value_counts().sum()"
   ]
  },
  {
   "cell_type": "code",
   "execution_count": 238,
   "id": "e134162a",
   "metadata": {},
   "outputs": [
    {
     "data": {
      "text/plain": [
       "816"
      ]
     },
     "execution_count": 238,
     "metadata": {},
     "output_type": "execute_result"
    }
   ],
   "source": [
    "newdata[newdata['Order Date'].str.contains('.+Mar.+')]['Order Date'].value_counts().sum()"
   ]
  },
  {
   "cell_type": "code",
   "execution_count": 239,
   "id": "e28479c2",
   "metadata": {},
   "outputs": [
    {
     "data": {
      "text/plain": [
       "883"
      ]
     },
     "execution_count": 239,
     "metadata": {},
     "output_type": "execute_result"
    }
   ],
   "source": [
    "newdata[newdata['Order Date'].str.contains('.+Dec.+')]['Order Date'].value_counts().sum()"
   ]
  },
  {
   "cell_type": "code",
   "execution_count": 240,
   "id": "5fe038c4",
   "metadata": {},
   "outputs": [
    {
     "data": {
      "text/plain": [
       "810"
      ]
     },
     "execution_count": 240,
     "metadata": {},
     "output_type": "execute_result"
    }
   ],
   "source": [
    "newdata[newdata['Order Date'].str.contains('.+Oct.+')]['Order Date'].value_counts().sum()"
   ]
  },
  {
   "cell_type": "code",
   "execution_count": 241,
   "id": "4de3221c",
   "metadata": {},
   "outputs": [
    {
     "data": {
      "text/plain": [
       "856"
      ]
     },
     "execution_count": 241,
     "metadata": {},
     "output_type": "execute_result"
    }
   ],
   "source": [
    "newdata[newdata['Order Date'].str.contains('.+Nov.+')]['Order Date'].value_counts().sum()"
   ]
  },
  {
   "cell_type": "code",
   "execution_count": 242,
   "id": "3b89348a",
   "metadata": {},
   "outputs": [
    {
     "data": {
      "text/plain": [
       "832"
      ]
     },
     "execution_count": 242,
     "metadata": {},
     "output_type": "execute_result"
    }
   ],
   "source": [
    "newdata[newdata['Order Date'].str.contains('.+Aug.+')]['Order Date'].value_counts().sum()"
   ]
  },
  {
   "cell_type": "code",
   "execution_count": 243,
   "id": "21843288",
   "metadata": {},
   "outputs": [
    {
     "data": {
      "text/plain": [
       "846"
      ]
     },
     "execution_count": 243,
     "metadata": {},
     "output_type": "execute_result"
    }
   ],
   "source": [
    "newdata[newdata['Order Date'].str.contains('.+Jul.+')]['Order Date'].value_counts().sum()"
   ]
  },
  {
   "cell_type": "code",
   "execution_count": 244,
   "id": "93a3271b",
   "metadata": {},
   "outputs": [
    {
     "data": {
      "text/plain": [
       "817"
      ]
     },
     "execution_count": 244,
     "metadata": {},
     "output_type": "execute_result"
    }
   ],
   "source": [
    "newdata[newdata['Order Date'].str.contains('.+Feb.+')]['Order Date'].value_counts().sum()"
   ]
  },
  {
   "cell_type": "code",
   "execution_count": 245,
   "id": "e98b57e9",
   "metadata": {},
   "outputs": [
    {
     "data": {
      "text/plain": [
       "816"
      ]
     },
     "execution_count": 245,
     "metadata": {},
     "output_type": "execute_result"
    }
   ],
   "source": [
    "newdata[newdata['Order Date'].str.contains('.+Apr.+')]['Order Date'].value_counts().sum()"
   ]
  },
  {
   "cell_type": "code",
   "execution_count": 246,
   "id": "1cf8d924",
   "metadata": {},
   "outputs": [
    {
     "data": {
      "text/plain": [
       "852"
      ]
     },
     "execution_count": 246,
     "metadata": {},
     "output_type": "execute_result"
    }
   ],
   "source": [
    "newdata[newdata['Order Date'].str.contains('.+Jan.+')]['Order Date'].value_counts().sum()"
   ]
  },
  {
   "cell_type": "code",
   "execution_count": 247,
   "id": "7ea9f495",
   "metadata": {},
   "outputs": [
    {
     "data": {
      "text/plain": [
       "784"
      ]
     },
     "execution_count": 247,
     "metadata": {},
     "output_type": "execute_result"
    }
   ],
   "source": [
    "newdata[newdata['Order Date'].str.contains('.+Jun.+')]['Order Date'].value_counts().sum()"
   ]
  },
  {
   "cell_type": "markdown",
   "id": "e52b7469",
   "metadata": {},
   "source": [
    "## convert Order Date to datetime"
   ]
  },
  {
   "cell_type": "code",
   "execution_count": 248,
   "id": "728f8c9d",
   "metadata": {},
   "outputs": [
    {
     "data": {
      "text/plain": [
       "0      2020-09-07\n",
       "1      2020-09-23\n",
       "2      2020-09-24\n",
       "3      2020-04-24\n",
       "4      2020-01-17\n",
       "          ...    \n",
       "9995   2020-06-14\n",
       "9996   2020-08-21\n",
       "9997   2020-09-19\n",
       "9998   2020-08-01\n",
       "9999   2020-02-14\n",
       "Name: Order Date, Length: 10000, dtype: datetime64[ns]"
      ]
     },
     "execution_count": 248,
     "metadata": {},
     "output_type": "execute_result"
    }
   ],
   "source": [
    "newdata['Order Date']=pd.to_datetime(newdata['Order Date'])\n",
    "\n",
    "newdata['Order Date']"
   ]
  },
  {
   "cell_type": "code",
   "execution_count": 249,
   "id": "33f1f1f3",
   "metadata": {},
   "outputs": [
    {
     "data": {
      "text/plain": [
       "Country                        object\n",
       "Product ID                      int64\n",
       "Product Category                int32\n",
       "Purchasing Price              float64\n",
       "Order Date             datetime64[ns]\n",
       "Planned Sales Price           float64\n",
       "Profit                        float64\n",
       "Consumer                        uint8\n",
       "Corporate                       uint8\n",
       "dtype: object"
      ]
     },
     "execution_count": 249,
     "metadata": {},
     "output_type": "execute_result"
    }
   ],
   "source": [
    "newdata.dtypes"
   ]
  },
  {
   "cell_type": "markdown",
   "id": "bfa75127",
   "metadata": {},
   "source": [
    "## convert Country to int"
   ]
  },
  {
   "cell_type": "code",
   "execution_count": 251,
   "id": "4c594fcd",
   "metadata": {},
   "outputs": [
    {
     "data": {
      "text/plain": [
       "0       5\n",
       "1       3\n",
       "2       4\n",
       "3       0\n",
       "4       1\n",
       "       ..\n",
       "9995    3\n",
       "9996    2\n",
       "9997    1\n",
       "9998    5\n",
       "9999    1\n",
       "Name: Country, Length: 10000, dtype: int32"
      ]
     },
     "execution_count": 251,
     "metadata": {},
     "output_type": "execute_result"
    }
   ],
   "source": [
    "from sklearn.preprocessing import LabelEncoder\n",
    "le = LabelEncoder()\n",
    "le.fit(newdata['Country'])\n",
    "le.classes_\n",
    "newdata['Country'] = le.transform(newdata['Country'])\n",
    "newdata['Country']"
   ]
  },
  {
   "cell_type": "code",
   "execution_count": 252,
   "id": "ffdc271d",
   "metadata": {},
   "outputs": [
    {
     "data": {
      "text/html": [
       "<div>\n",
       "<style scoped>\n",
       "    .dataframe tbody tr th:only-of-type {\n",
       "        vertical-align: middle;\n",
       "    }\n",
       "\n",
       "    .dataframe tbody tr th {\n",
       "        vertical-align: top;\n",
       "    }\n",
       "\n",
       "    .dataframe thead th {\n",
       "        text-align: right;\n",
       "    }\n",
       "</style>\n",
       "<table border=\"1\" class=\"dataframe\">\n",
       "  <thead>\n",
       "    <tr style=\"text-align: right;\">\n",
       "      <th></th>\n",
       "      <th>Country</th>\n",
       "      <th>Product ID</th>\n",
       "      <th>Product Category</th>\n",
       "      <th>Purchasing Price</th>\n",
       "      <th>Order Date</th>\n",
       "      <th>Planned Sales Price</th>\n",
       "      <th>Profit</th>\n",
       "      <th>Consumer</th>\n",
       "      <th>Corporate</th>\n",
       "    </tr>\n",
       "  </thead>\n",
       "  <tbody>\n",
       "    <tr>\n",
       "      <th>0</th>\n",
       "      <td>5</td>\n",
       "      <td>17</td>\n",
       "      <td>1</td>\n",
       "      <td>36.081</td>\n",
       "      <td>2020-09-07</td>\n",
       "      <td>55.926</td>\n",
       "      <td>19.845</td>\n",
       "      <td>0</td>\n",
       "      <td>1</td>\n",
       "    </tr>\n",
       "    <tr>\n",
       "      <th>1</th>\n",
       "      <td>3</td>\n",
       "      <td>5</td>\n",
       "      <td>2</td>\n",
       "      <td>21.430</td>\n",
       "      <td>2020-09-23</td>\n",
       "      <td>28.502</td>\n",
       "      <td>7.072</td>\n",
       "      <td>1</td>\n",
       "      <td>0</td>\n",
       "    </tr>\n",
       "    <tr>\n",
       "      <th>2</th>\n",
       "      <td>4</td>\n",
       "      <td>3</td>\n",
       "      <td>2</td>\n",
       "      <td>44.494</td>\n",
       "      <td>2020-09-24</td>\n",
       "      <td>62.292</td>\n",
       "      <td>17.798</td>\n",
       "      <td>1</td>\n",
       "      <td>0</td>\n",
       "    </tr>\n",
       "    <tr>\n",
       "      <th>3</th>\n",
       "      <td>0</td>\n",
       "      <td>12</td>\n",
       "      <td>0</td>\n",
       "      <td>12.734</td>\n",
       "      <td>2020-04-24</td>\n",
       "      <td>16.554</td>\n",
       "      <td>3.820</td>\n",
       "      <td>1</td>\n",
       "      <td>0</td>\n",
       "    </tr>\n",
       "    <tr>\n",
       "      <th>4</th>\n",
       "      <td>1</td>\n",
       "      <td>5</td>\n",
       "      <td>2</td>\n",
       "      <td>21.430</td>\n",
       "      <td>2020-01-17</td>\n",
       "      <td>26.788</td>\n",
       "      <td>5.358</td>\n",
       "      <td>1</td>\n",
       "      <td>0</td>\n",
       "    </tr>\n",
       "  </tbody>\n",
       "</table>\n",
       "</div>"
      ],
      "text/plain": [
       "   Country  Product ID  Product Category  Purchasing Price Order Date  \\\n",
       "0        5          17                 1            36.081 2020-09-07   \n",
       "1        3           5                 2            21.430 2020-09-23   \n",
       "2        4           3                 2            44.494 2020-09-24   \n",
       "3        0          12                 0            12.734 2020-04-24   \n",
       "4        1           5                 2            21.430 2020-01-17   \n",
       "\n",
       "   Planned Sales Price  Profit  Consumer  Corporate  \n",
       "0               55.926  19.845         0          1  \n",
       "1               28.502   7.072         1          0  \n",
       "2               62.292  17.798         1          0  \n",
       "3               16.554   3.820         1          0  \n",
       "4               26.788   5.358         1          0  "
      ]
     },
     "execution_count": 252,
     "metadata": {},
     "output_type": "execute_result"
    }
   ],
   "source": [
    "newdata.head()"
   ]
  },
  {
   "cell_type": "markdown",
   "id": "62821329",
   "metadata": {},
   "source": [
    "## Finish converting all columns to  numeric , float  and float >>>>>>>>>>>>>> "
   ]
  },
  {
   "cell_type": "code",
   "execution_count": 254,
   "id": "c224bb86",
   "metadata": {},
   "outputs": [
    {
     "data": {
      "text/plain": [
       "Country                         int32\n",
       "Product ID                      int64\n",
       "Product Category                int32\n",
       "Purchasing Price              float64\n",
       "Order Date             datetime64[ns]\n",
       "Planned Sales Price           float64\n",
       "Profit                        float64\n",
       "Consumer                        uint8\n",
       "Corporate                       uint8\n",
       "dtype: object"
      ]
     },
     "execution_count": 254,
     "metadata": {},
     "output_type": "execute_result"
    }
   ],
   "source": [
    "newdata.dtypes"
   ]
  },
  {
   "cell_type": "code",
   "execution_count": 255,
   "id": "917dc07d",
   "metadata": {},
   "outputs": [
    {
     "data": {
      "text/html": [
       "<div>\n",
       "<style scoped>\n",
       "    .dataframe tbody tr th:only-of-type {\n",
       "        vertical-align: middle;\n",
       "    }\n",
       "\n",
       "    .dataframe tbody tr th {\n",
       "        vertical-align: top;\n",
       "    }\n",
       "\n",
       "    .dataframe thead th {\n",
       "        text-align: right;\n",
       "    }\n",
       "</style>\n",
       "<table border=\"1\" class=\"dataframe\">\n",
       "  <thead>\n",
       "    <tr style=\"text-align: right;\">\n",
       "      <th></th>\n",
       "      <th>Country</th>\n",
       "      <th>Product ID</th>\n",
       "      <th>Product Category</th>\n",
       "      <th>Purchasing Price</th>\n",
       "      <th>Planned Sales Price</th>\n",
       "      <th>Profit</th>\n",
       "      <th>Consumer</th>\n",
       "      <th>Corporate</th>\n",
       "    </tr>\n",
       "  </thead>\n",
       "  <tbody>\n",
       "    <tr>\n",
       "      <th>Country</th>\n",
       "      <td>1.000000</td>\n",
       "      <td>0.006648</td>\n",
       "      <td>-0.018546</td>\n",
       "      <td>-0.006632</td>\n",
       "      <td>0.138167</td>\n",
       "      <td>0.440731</td>\n",
       "      <td>-0.227711</td>\n",
       "      <td>0.227711</td>\n",
       "    </tr>\n",
       "    <tr>\n",
       "      <th>Product ID</th>\n",
       "      <td>0.006648</td>\n",
       "      <td>1.000000</td>\n",
       "      <td>-0.098939</td>\n",
       "      <td>0.085867</td>\n",
       "      <td>0.082734</td>\n",
       "      <td>0.060309</td>\n",
       "      <td>0.002012</td>\n",
       "      <td>-0.002012</td>\n",
       "    </tr>\n",
       "    <tr>\n",
       "      <th>Product Category</th>\n",
       "      <td>-0.018546</td>\n",
       "      <td>-0.098939</td>\n",
       "      <td>1.000000</td>\n",
       "      <td>0.741838</td>\n",
       "      <td>0.723470</td>\n",
       "      <td>0.547838</td>\n",
       "      <td>0.009192</td>\n",
       "      <td>-0.009192</td>\n",
       "    </tr>\n",
       "    <tr>\n",
       "      <th>Purchasing Price</th>\n",
       "      <td>-0.006632</td>\n",
       "      <td>0.085867</td>\n",
       "      <td>0.741838</td>\n",
       "      <td>1.000000</td>\n",
       "      <td>0.975930</td>\n",
       "      <td>0.740616</td>\n",
       "      <td>-0.000728</td>\n",
       "      <td>0.000728</td>\n",
       "    </tr>\n",
       "    <tr>\n",
       "      <th>Planned Sales Price</th>\n",
       "      <td>0.138167</td>\n",
       "      <td>0.082734</td>\n",
       "      <td>0.723470</td>\n",
       "      <td>0.975930</td>\n",
       "      <td>1.000000</td>\n",
       "      <td>0.869326</td>\n",
       "      <td>-0.032144</td>\n",
       "      <td>0.032144</td>\n",
       "    </tr>\n",
       "    <tr>\n",
       "      <th>Profit</th>\n",
       "      <td>0.440731</td>\n",
       "      <td>0.060309</td>\n",
       "      <td>0.547838</td>\n",
       "      <td>0.740616</td>\n",
       "      <td>0.869326</td>\n",
       "      <td>1.000000</td>\n",
       "      <td>-0.097388</td>\n",
       "      <td>0.097388</td>\n",
       "    </tr>\n",
       "    <tr>\n",
       "      <th>Consumer</th>\n",
       "      <td>-0.227711</td>\n",
       "      <td>0.002012</td>\n",
       "      <td>0.009192</td>\n",
       "      <td>-0.000728</td>\n",
       "      <td>-0.032144</td>\n",
       "      <td>-0.097388</td>\n",
       "      <td>1.000000</td>\n",
       "      <td>-1.000000</td>\n",
       "    </tr>\n",
       "    <tr>\n",
       "      <th>Corporate</th>\n",
       "      <td>0.227711</td>\n",
       "      <td>-0.002012</td>\n",
       "      <td>-0.009192</td>\n",
       "      <td>0.000728</td>\n",
       "      <td>0.032144</td>\n",
       "      <td>0.097388</td>\n",
       "      <td>-1.000000</td>\n",
       "      <td>1.000000</td>\n",
       "    </tr>\n",
       "  </tbody>\n",
       "</table>\n",
       "</div>"
      ],
      "text/plain": [
       "                      Country  Product ID  Product Category  Purchasing Price  \\\n",
       "Country              1.000000    0.006648         -0.018546         -0.006632   \n",
       "Product ID           0.006648    1.000000         -0.098939          0.085867   \n",
       "Product Category    -0.018546   -0.098939          1.000000          0.741838   \n",
       "Purchasing Price    -0.006632    0.085867          0.741838          1.000000   \n",
       "Planned Sales Price  0.138167    0.082734          0.723470          0.975930   \n",
       "Profit               0.440731    0.060309          0.547838          0.740616   \n",
       "Consumer            -0.227711    0.002012          0.009192         -0.000728   \n",
       "Corporate            0.227711   -0.002012         -0.009192          0.000728   \n",
       "\n",
       "                     Planned Sales Price    Profit  Consumer  Corporate  \n",
       "Country                         0.138167  0.440731 -0.227711   0.227711  \n",
       "Product ID                      0.082734  0.060309  0.002012  -0.002012  \n",
       "Product Category                0.723470  0.547838  0.009192  -0.009192  \n",
       "Purchasing Price                0.975930  0.740616 -0.000728   0.000728  \n",
       "Planned Sales Price             1.000000  0.869326 -0.032144   0.032144  \n",
       "Profit                          0.869326  1.000000 -0.097388   0.097388  \n",
       "Consumer                       -0.032144 -0.097388  1.000000  -1.000000  \n",
       "Corporate                       0.032144  0.097388 -1.000000   1.000000  "
      ]
     },
     "execution_count": 255,
     "metadata": {},
     "output_type": "execute_result"
    }
   ],
   "source": [
    "newdata.corr()"
   ]
  },
  {
   "cell_type": "code",
   "execution_count": 257,
   "id": "8633fd8c",
   "metadata": {},
   "outputs": [
    {
     "data": {
      "text/plain": [
       "<matplotlib.collections.PathCollection at 0x1f635afa160>"
      ]
     },
     "execution_count": 257,
     "metadata": {},
     "output_type": "execute_result"
    },
    {
     "data": {
      "image/png": "[encoded data removed]",
      "text/plain": [
       "<Figure size 720x504 with 1 Axes>"
      ]
     },
     "metadata": {
      "needs_background": "light"
     },
     "output_type": "display_data"
    }
   ],
   "source": [
    "plt.figure(figsize=(10,7))\n",
    "plt.scatter(newdata['Purchasing Price'],newdata['Profit'])"
   ]
  },
  {
   "cell_type": "code",
   "execution_count": 259,
   "id": "8d6e9070",
   "metadata": {},
   "outputs": [
    {
     "data": {
      "text/plain": [
       "<matplotlib.collections.PathCollection at 0x1f635b50ac0>"
      ]
     },
     "execution_count": 259,
     "metadata": {},
     "output_type": "execute_result"
    },
    {
     "data": {
      "image/png": "[encoded data removed]",
      "text/plain": [
       "<Figure size 720x504 with 1 Axes>"
      ]
     },
     "metadata": {
      "needs_background": "light"
     },
     "output_type": "display_data"
    }
   ],
   "source": [
    "plt.figure(figsize=(10,7))\n",
    "plt.scatter(newdata['Purchasing Price'],newdata['Planned Sales Price'])"
   ]
  },
  {
   "cell_type": "code",
   "execution_count": 260,
   "id": "e00984d4",
   "metadata": {},
   "outputs": [
    {
     "data": {
      "text/html": [
       "<div>\n",
       "<style scoped>\n",
       "    .dataframe tbody tr th:only-of-type {\n",
       "        vertical-align: middle;\n",
       "    }\n",
       "\n",
       "    .dataframe tbody tr th {\n",
       "        vertical-align: top;\n",
       "    }\n",
       "\n",
       "    .dataframe thead th {\n",
       "        text-align: right;\n",
       "    }\n",
       "</style>\n",
       "<table border=\"1\" class=\"dataframe\">\n",
       "  <thead>\n",
       "    <tr style=\"text-align: right;\">\n",
       "      <th></th>\n",
       "      <th>Country</th>\n",
       "      <th>Product ID</th>\n",
       "      <th>Product Category</th>\n",
       "      <th>Purchasing Price</th>\n",
       "      <th>Order Date</th>\n",
       "      <th>Planned Sales Price</th>\n",
       "      <th>Profit</th>\n",
       "      <th>Consumer</th>\n",
       "      <th>Corporate</th>\n",
       "    </tr>\n",
       "  </thead>\n",
       "  <tbody>\n",
       "    <tr>\n",
       "      <th>0</th>\n",
       "      <td>5</td>\n",
       "      <td>17</td>\n",
       "      <td>1</td>\n",
       "      <td>36.081</td>\n",
       "      <td>2020-09-07</td>\n",
       "      <td>55.926</td>\n",
       "      <td>19.845</td>\n",
       "      <td>0</td>\n",
       "      <td>1</td>\n",
       "    </tr>\n",
       "    <tr>\n",
       "      <th>1</th>\n",
       "      <td>3</td>\n",
       "      <td>5</td>\n",
       "      <td>2</td>\n",
       "      <td>21.430</td>\n",
       "      <td>2020-09-23</td>\n",
       "      <td>28.502</td>\n",
       "      <td>7.072</td>\n",
       "      <td>1</td>\n",
       "      <td>0</td>\n",
       "    </tr>\n",
       "    <tr>\n",
       "      <th>2</th>\n",
       "      <td>4</td>\n",
       "      <td>3</td>\n",
       "      <td>2</td>\n",
       "      <td>44.494</td>\n",
       "      <td>2020-09-24</td>\n",
       "      <td>62.292</td>\n",
       "      <td>17.798</td>\n",
       "      <td>1</td>\n",
       "      <td>0</td>\n",
       "    </tr>\n",
       "    <tr>\n",
       "      <th>3</th>\n",
       "      <td>0</td>\n",
       "      <td>12</td>\n",
       "      <td>0</td>\n",
       "      <td>12.734</td>\n",
       "      <td>2020-04-24</td>\n",
       "      <td>16.554</td>\n",
       "      <td>3.820</td>\n",
       "      <td>1</td>\n",
       "      <td>0</td>\n",
       "    </tr>\n",
       "    <tr>\n",
       "      <th>4</th>\n",
       "      <td>1</td>\n",
       "      <td>5</td>\n",
       "      <td>2</td>\n",
       "      <td>21.430</td>\n",
       "      <td>2020-01-17</td>\n",
       "      <td>26.788</td>\n",
       "      <td>5.358</td>\n",
       "      <td>1</td>\n",
       "      <td>0</td>\n",
       "    </tr>\n",
       "  </tbody>\n",
       "</table>\n",
       "</div>"
      ],
      "text/plain": [
       "   Country  Product ID  Product Category  Purchasing Price Order Date  \\\n",
       "0        5          17                 1            36.081 2020-09-07   \n",
       "1        3           5                 2            21.430 2020-09-23   \n",
       "2        4           3                 2            44.494 2020-09-24   \n",
       "3        0          12                 0            12.734 2020-04-24   \n",
       "4        1           5                 2            21.430 2020-01-17   \n",
       "\n",
       "   Planned Sales Price  Profit  Consumer  Corporate  \n",
       "0               55.926  19.845         0          1  \n",
       "1               28.502   7.072         1          0  \n",
       "2               62.292  17.798         1          0  \n",
       "3               16.554   3.820         1          0  \n",
       "4               26.788   5.358         1          0  "
      ]
     },
     "execution_count": 260,
     "metadata": {},
     "output_type": "execute_result"
    }
   ],
   "source": [
    "newdata.head()"
   ]
  },
  {
   "cell_type": "markdown",
   "id": "ed94d3f0",
   "metadata": {},
   "source": [
    "## How to separate months and days  from order date >>>>>>>>>"
   ]
  },
  {
   "cell_type": "code",
   "execution_count": 264,
   "id": "689d9095",
   "metadata": {},
   "outputs": [
    {
     "data": {
      "text/plain": [
       "0       9\n",
       "1       9\n",
       "2       9\n",
       "3       4\n",
       "4       1\n",
       "       ..\n",
       "9995    6\n",
       "9996    8\n",
       "9997    9\n",
       "9998    8\n",
       "9999    2\n",
       "Name: month, Length: 10000, dtype: int64"
      ]
     },
     "execution_count": 264,
     "metadata": {},
     "output_type": "execute_result"
    }
   ],
   "source": [
    "newdata['month']=newdata['Order Date'].apply(lambda x : x.month)\n",
    "newdata['month']"
   ]
  },
  {
   "cell_type": "code",
   "execution_count": 263,
   "id": "f0b41205",
   "metadata": {},
   "outputs": [
    {
     "data": {
      "text/html": [
       "<div>\n",
       "<style scoped>\n",
       "    .dataframe tbody tr th:only-of-type {\n",
       "        vertical-align: middle;\n",
       "    }\n",
       "\n",
       "    .dataframe tbody tr th {\n",
       "        vertical-align: top;\n",
       "    }\n",
       "\n",
       "    .dataframe thead th {\n",
       "        text-align: right;\n",
       "    }\n",
       "</style>\n",
       "<table border=\"1\" class=\"dataframe\">\n",
       "  <thead>\n",
       "    <tr style=\"text-align: right;\">\n",
       "      <th></th>\n",
       "      <th>Country</th>\n",
       "      <th>Product ID</th>\n",
       "      <th>Product Category</th>\n",
       "      <th>Purchasing Price</th>\n",
       "      <th>Order Date</th>\n",
       "      <th>Planned Sales Price</th>\n",
       "      <th>Profit</th>\n",
       "      <th>Consumer</th>\n",
       "      <th>Corporate</th>\n",
       "      <th>month</th>\n",
       "    </tr>\n",
       "  </thead>\n",
       "  <tbody>\n",
       "    <tr>\n",
       "      <th>0</th>\n",
       "      <td>5</td>\n",
       "      <td>17</td>\n",
       "      <td>1</td>\n",
       "      <td>36.081</td>\n",
       "      <td>2020-09-07</td>\n",
       "      <td>55.926</td>\n",
       "      <td>19.845</td>\n",
       "      <td>0</td>\n",
       "      <td>1</td>\n",
       "      <td>9</td>\n",
       "    </tr>\n",
       "    <tr>\n",
       "      <th>1</th>\n",
       "      <td>3</td>\n",
       "      <td>5</td>\n",
       "      <td>2</td>\n",
       "      <td>21.430</td>\n",
       "      <td>2020-09-23</td>\n",
       "      <td>28.502</td>\n",
       "      <td>7.072</td>\n",
       "      <td>1</td>\n",
       "      <td>0</td>\n",
       "      <td>9</td>\n",
       "    </tr>\n",
       "    <tr>\n",
       "      <th>2</th>\n",
       "      <td>4</td>\n",
       "      <td>3</td>\n",
       "      <td>2</td>\n",
       "      <td>44.494</td>\n",
       "      <td>2020-09-24</td>\n",
       "      <td>62.292</td>\n",
       "      <td>17.798</td>\n",
       "      <td>1</td>\n",
       "      <td>0</td>\n",
       "      <td>9</td>\n",
       "    </tr>\n",
       "    <tr>\n",
       "      <th>3</th>\n",
       "      <td>0</td>\n",
       "      <td>12</td>\n",
       "      <td>0</td>\n",
       "      <td>12.734</td>\n",
       "      <td>2020-04-24</td>\n",
       "      <td>16.554</td>\n",
       "      <td>3.820</td>\n",
       "      <td>1</td>\n",
       "      <td>0</td>\n",
       "      <td>4</td>\n",
       "    </tr>\n",
       "    <tr>\n",
       "      <th>4</th>\n",
       "      <td>1</td>\n",
       "      <td>5</td>\n",
       "      <td>2</td>\n",
       "      <td>21.430</td>\n",
       "      <td>2020-01-17</td>\n",
       "      <td>26.788</td>\n",
       "      <td>5.358</td>\n",
       "      <td>1</td>\n",
       "      <td>0</td>\n",
       "      <td>1</td>\n",
       "    </tr>\n",
       "  </tbody>\n",
       "</table>\n",
       "</div>"
      ],
      "text/plain": [
       "   Country  Product ID  Product Category  Purchasing Price Order Date  \\\n",
       "0        5          17                 1            36.081 2020-09-07   \n",
       "1        3           5                 2            21.430 2020-09-23   \n",
       "2        4           3                 2            44.494 2020-09-24   \n",
       "3        0          12                 0            12.734 2020-04-24   \n",
       "4        1           5                 2            21.430 2020-01-17   \n",
       "\n",
       "   Planned Sales Price  Profit  Consumer  Corporate  month  \n",
       "0               55.926  19.845         0          1      9  \n",
       "1               28.502   7.072         1          0      9  \n",
       "2               62.292  17.798         1          0      9  \n",
       "3               16.554   3.820         1          0      4  \n",
       "4               26.788   5.358         1          0      1  "
      ]
     },
     "execution_count": 263,
     "metadata": {},
     "output_type": "execute_result"
    }
   ],
   "source": [
    "newdata.head()"
   ]
  },
  {
   "cell_type": "code",
   "execution_count": 107,
   "id": "198a9492",
   "metadata": {},
   "outputs": [
    {
     "data": {
      "text/plain": [
       "1"
      ]
     },
     "execution_count": 107,
     "metadata": {},
     "output_type": "execute_result"
    }
   ],
   "source": [
    "newdata['Order Date'].apply(lambda x : x.year).nunique()"
   ]
  },
  {
   "cell_type": "code",
   "execution_count": 265,
   "id": "90fe326f",
   "metadata": {},
   "outputs": [
    {
     "data": {
      "text/plain": [
       "1     417\n",
       "2     376\n",
       "3     361\n",
       "26    357\n",
       "8     355\n",
       "27    350\n",
       "14    349\n",
       "5     347\n",
       "17    340\n",
       "13    337\n",
       "12    334\n",
       "18    329\n",
       "19    328\n",
       "22    321\n",
       "10    320\n",
       "9     319\n",
       "29    315\n",
       "6     314\n",
       "16    313\n",
       "24    312\n",
       "28    311\n",
       "7     309\n",
       "21    309\n",
       "4     303\n",
       "25    300\n",
       "20    299\n",
       "15    299\n",
       "11    299\n",
       "30    297\n",
       "23    284\n",
       "31    196\n",
       "Name: Order Date, dtype: int64"
      ]
     },
     "execution_count": 265,
     "metadata": {},
     "output_type": "execute_result"
    }
   ],
   "source": [
    "newdata['Order Date'].apply(lambda x : x.day).value_counts()"
   ]
  },
  {
   "cell_type": "code",
   "execution_count": 269,
   "id": "075daf33",
   "metadata": {},
   "outputs": [
    {
     "data": {
      "text/plain": [
       "0        7\n",
       "1       23\n",
       "2       24\n",
       "3       24\n",
       "4       17\n",
       "        ..\n",
       "9995    14\n",
       "9996    21\n",
       "9997    19\n",
       "9998     1\n",
       "9999    14\n",
       "Name: day, Length: 10000, dtype: int64"
      ]
     },
     "execution_count": 269,
     "metadata": {},
     "output_type": "execute_result"
    }
   ],
   "source": [
    "newdata['day']= newdata['Order Date'].apply(lambda x : x.day)\n",
    "newdata['day']"
   ]
  },
  {
   "cell_type": "code",
   "execution_count": 268,
   "id": "5e11503d",
   "metadata": {},
   "outputs": [
    {
     "data": {
      "text/html": [
       "<div>\n",
       "<style scoped>\n",
       "    .dataframe tbody tr th:only-of-type {\n",
       "        vertical-align: middle;\n",
       "    }\n",
       "\n",
       "    .dataframe tbody tr th {\n",
       "        vertical-align: top;\n",
       "    }\n",
       "\n",
       "    .dataframe thead th {\n",
       "        text-align: right;\n",
       "    }\n",
       "</style>\n",
       "<table border=\"1\" class=\"dataframe\">\n",
       "  <thead>\n",
       "    <tr style=\"text-align: right;\">\n",
       "      <th></th>\n",
       "      <th>Country</th>\n",
       "      <th>Product ID</th>\n",
       "      <th>Product Category</th>\n",
       "      <th>Purchasing Price</th>\n",
       "      <th>Order Date</th>\n",
       "      <th>Planned Sales Price</th>\n",
       "      <th>Profit</th>\n",
       "      <th>Consumer</th>\n",
       "      <th>Corporate</th>\n",
       "      <th>month</th>\n",
       "      <th>day</th>\n",
       "    </tr>\n",
       "  </thead>\n",
       "  <tbody>\n",
       "    <tr>\n",
       "      <th>0</th>\n",
       "      <td>5</td>\n",
       "      <td>17</td>\n",
       "      <td>1</td>\n",
       "      <td>36.081</td>\n",
       "      <td>2020-09-07</td>\n",
       "      <td>55.926</td>\n",
       "      <td>19.845</td>\n",
       "      <td>0</td>\n",
       "      <td>1</td>\n",
       "      <td>9</td>\n",
       "      <td>7</td>\n",
       "    </tr>\n",
       "    <tr>\n",
       "      <th>1</th>\n",
       "      <td>3</td>\n",
       "      <td>5</td>\n",
       "      <td>2</td>\n",
       "      <td>21.430</td>\n",
       "      <td>2020-09-23</td>\n",
       "      <td>28.502</td>\n",
       "      <td>7.072</td>\n",
       "      <td>1</td>\n",
       "      <td>0</td>\n",
       "      <td>9</td>\n",
       "      <td>23</td>\n",
       "    </tr>\n",
       "    <tr>\n",
       "      <th>2</th>\n",
       "      <td>4</td>\n",
       "      <td>3</td>\n",
       "      <td>2</td>\n",
       "      <td>44.494</td>\n",
       "      <td>2020-09-24</td>\n",
       "      <td>62.292</td>\n",
       "      <td>17.798</td>\n",
       "      <td>1</td>\n",
       "      <td>0</td>\n",
       "      <td>9</td>\n",
       "      <td>24</td>\n",
       "    </tr>\n",
       "    <tr>\n",
       "      <th>3</th>\n",
       "      <td>0</td>\n",
       "      <td>12</td>\n",
       "      <td>0</td>\n",
       "      <td>12.734</td>\n",
       "      <td>2020-04-24</td>\n",
       "      <td>16.554</td>\n",
       "      <td>3.820</td>\n",
       "      <td>1</td>\n",
       "      <td>0</td>\n",
       "      <td>4</td>\n",
       "      <td>24</td>\n",
       "    </tr>\n",
       "    <tr>\n",
       "      <th>4</th>\n",
       "      <td>1</td>\n",
       "      <td>5</td>\n",
       "      <td>2</td>\n",
       "      <td>21.430</td>\n",
       "      <td>2020-01-17</td>\n",
       "      <td>26.788</td>\n",
       "      <td>5.358</td>\n",
       "      <td>1</td>\n",
       "      <td>0</td>\n",
       "      <td>1</td>\n",
       "      <td>17</td>\n",
       "    </tr>\n",
       "  </tbody>\n",
       "</table>\n",
       "</div>"
      ],
      "text/plain": [
       "   Country  Product ID  Product Category  Purchasing Price Order Date  \\\n",
       "0        5          17                 1            36.081 2020-09-07   \n",
       "1        3           5                 2            21.430 2020-09-23   \n",
       "2        4           3                 2            44.494 2020-09-24   \n",
       "3        0          12                 0            12.734 2020-04-24   \n",
       "4        1           5                 2            21.430 2020-01-17   \n",
       "\n",
       "   Planned Sales Price  Profit  Consumer  Corporate  month  day  \n",
       "0               55.926  19.845         0          1      9    7  \n",
       "1               28.502   7.072         1          0      9   23  \n",
       "2               62.292  17.798         1          0      9   24  \n",
       "3               16.554   3.820         1          0      4   24  \n",
       "4               26.788   5.358         1          0      1   17  "
      ]
     },
     "execution_count": 268,
     "metadata": {},
     "output_type": "execute_result"
    }
   ],
   "source": [
    "newdata.head()"
   ]
  },
  {
   "cell_type": "code",
   "execution_count": 270,
   "id": "fc422497",
   "metadata": {},
   "outputs": [
    {
     "data": {
      "text/plain": [
       "array([ 9,  4,  1,  2,  7,  3, 12, 10,  6, 11,  5,  8], dtype=int64)"
      ]
     },
     "execution_count": 270,
     "metadata": {},
     "output_type": "execute_result"
    }
   ],
   "source": [
    "newdata['Order Date'].apply(lambda x : x.month).unique()"
   ]
  },
  {
   "cell_type": "code",
   "execution_count": 271,
   "id": "89ebdb82",
   "metadata": {},
   "outputs": [
    {
     "data": {
      "text/plain": [
       "array([ 7, 23, 24, 17, 10,  5,  1,  2, 18, 19, 11, 15, 25, 16, 28,  8, 21,\n",
       "       12, 30, 29,  6, 20,  3,  9, 26, 14, 13, 31, 27, 22,  4],\n",
       "      dtype=int64)"
      ]
     },
     "execution_count": 271,
     "metadata": {},
     "output_type": "execute_result"
    }
   ],
   "source": [
    "newdata['Order Date'].apply(lambda x : x.day).unique()"
   ]
  },
  {
   "cell_type": "code",
   "execution_count": 112,
   "id": "a6f91899",
   "metadata": {},
   "outputs": [
    {
     "data": {
      "text/plain": [
       "31"
      ]
     },
     "execution_count": 112,
     "metadata": {},
     "output_type": "execute_result"
    }
   ],
   "source": [
    "newdata['Order Date'].apply(lambda x : x.day).nunique()"
   ]
  },
  {
   "cell_type": "code",
   "execution_count": 113,
   "id": "78b488ca",
   "metadata": {},
   "outputs": [
    {
     "data": {
      "text/plain": [
       "12    883\n",
       "11    856\n",
       "1     852\n",
       "9     850\n",
       "7     846\n",
       "5     838\n",
       "8     832\n",
       "2     817\n",
       "4     816\n",
       "3     816\n",
       "10    810\n",
       "6     784\n",
       "Name: Order Date, dtype: int64"
      ]
     },
     "execution_count": 113,
     "metadata": {},
     "output_type": "execute_result"
    }
   ],
   "source": [
    "newdata['Order Date'].apply(lambda x : x.month).value_counts().sort_values(ascending = False)"
   ]
  },
  {
   "cell_type": "code",
   "execution_count": 272,
   "id": "cb2daa7d",
   "metadata": {},
   "outputs": [
    {
     "data": {
      "text/plain": [
       "month\n",
       "12    8688.162\n",
       "11    8134.209\n",
       "9     8076.558\n",
       "1     8020.690\n",
       "5     7859.590\n",
       "7     7734.830\n",
       "3     7599.184\n",
       "8     7561.941\n",
       "4     7521.784\n",
       "2     7455.391\n",
       "10    7450.416\n",
       "6     7306.168\n",
       "Name: Profit, dtype: float64"
      ]
     },
     "execution_count": 272,
     "metadata": {},
     "output_type": "execute_result"
    }
   ],
   "source": [
    "sales=newdata.groupby('month')['Profit'].sum().sort_values(ascending=False)\n",
    "sales"
   ]
  },
  {
   "cell_type": "code",
   "execution_count": 273,
   "id": "93466f36",
   "metadata": {},
   "outputs": [
    {
     "data": {
      "text/plain": [
       "Int64Index([12, 11, 9, 1, 5, 7, 3, 8, 4, 2, 10, 6], dtype='int64', name='month')"
      ]
     },
     "execution_count": 273,
     "metadata": {},
     "output_type": "execute_result"
    }
   ],
   "source": [
    "sales.index"
   ]
  },
  {
   "cell_type": "code",
   "execution_count": 274,
   "id": "0c012e83",
   "metadata": {},
   "outputs": [
    {
     "data": {
      "text/plain": [
       "array([8688.162, 8134.209, 8076.558, 8020.69 , 7859.59 , 7734.83 ,\n",
       "       7599.184, 7561.941, 7521.784, 7455.391, 7450.416, 7306.168])"
      ]
     },
     "execution_count": 274,
     "metadata": {},
     "output_type": "execute_result"
    }
   ],
   "source": [
    "sales.values"
   ]
  },
  {
   "cell_type": "code",
   "execution_count": 275,
   "id": "8de8447c",
   "metadata": {},
   "outputs": [
    {
     "data": {
      "text/plain": [
       "<BarContainer object of 12 artists>"
      ]
     },
     "execution_count": 275,
     "metadata": {},
     "output_type": "execute_result"
    },
    {
     "data": {
      "image/png": "[encoded data removed]",
      "text/plain": [
       "<Figure size 720x432 with 1 Axes>"
      ]
     },
     "metadata": {
      "needs_background": "light"
     },
     "output_type": "display_data"
    }
   ],
   "source": [
    "plt.figure(figsize = (10,6))\n",
    "plt.bar(sales.index,sales.values,color='green')\n"
   ]
  },
  {
   "cell_type": "code",
   "execution_count": 276,
   "id": "f839b1b3",
   "metadata": {},
   "outputs": [
    {
     "data": {
      "text/plain": [
       "month\n",
       "12    8688.0\n",
       "11    8134.0\n",
       "9     8077.0\n",
       "1     8021.0\n",
       "5     7860.0\n",
       "7     7735.0\n",
       "3     7599.0\n",
       "8     7562.0\n",
       "4     7522.0\n",
       "2     7455.0\n",
       "10    7450.0\n",
       "6     7306.0\n",
       "Name: Profit, dtype: float64"
      ]
     },
     "execution_count": 276,
     "metadata": {},
     "output_type": "execute_result"
    }
   ],
   "source": [
    "sales.round()"
   ]
  },
  {
   "cell_type": "code",
   "execution_count": 277,
   "id": "8ed898b1",
   "metadata": {},
   "outputs": [
    {
     "data": {
      "text/plain": [
       "<BarContainer object of 12 artists>"
      ]
     },
     "execution_count": 277,
     "metadata": {},
     "output_type": "execute_result"
    },
    {
     "data": {
      "image/png": "[encoded data removed]",
      "text/plain": [
       "<Figure size 720x432 with 1 Axes>"
      ]
     },
     "metadata": {
      "needs_background": "light"
     },
     "output_type": "display_data"
    }
   ],
   "source": [
    "plt.figure(figsize = (10,6))\n",
    "plt.barh(sales.index,sales.values,color='maroon')"
   ]
  },
  {
   "cell_type": "code",
   "execution_count": 280,
   "id": "f2a6a6de",
   "metadata": {},
   "outputs": [
    {
     "data": {
      "text/plain": [
       "Country\n",
       "5    25897.285\n",
       "4    18481.173\n",
       "3    16040.142\n",
       "0    14293.957\n",
       "1    11721.800\n",
       "2     6974.566\n",
       "Name: Profit, dtype: float64"
      ]
     },
     "execution_count": 280,
     "metadata": {},
     "output_type": "execute_result"
    }
   ],
   "source": [
    "country = newdata.groupby('Country')['Profit'].sum().sort_values(ascending=False)\n",
    "country"
   ]
  },
  {
   "cell_type": "code",
   "execution_count": 279,
   "id": "fb1f0097",
   "metadata": {},
   "outputs": [
    {
     "data": {
      "image/png": "[encoded data removed]",
      "text/plain": [
       "<Figure size 720x432 with 1 Axes>"
      ]
     },
     "metadata": {
      "needs_background": "light"
     },
     "output_type": "display_data"
    }
   ],
   "source": [
    "plt.figure(figsize = (10,6))\n",
    "plt.bar(country.index,country.values,color='blue',width = 0.7)\n",
    "plt.xlabel(\"countries name\")\n",
    "plt.ylabel(\"profits\")\n",
    "plt.title(\"profit per country\")\n",
    "plt.show()"
   ]
  },
  {
   "cell_type": "code",
   "execution_count": 282,
   "id": "55e1af15",
   "metadata": {},
   "outputs": [
    {
     "data": {
      "text/plain": [
       "Consumer\n",
       "1    51767.973\n",
       "0    41640.950\n",
       "Name: Profit, dtype: float64"
      ]
     },
     "execution_count": 282,
     "metadata": {},
     "output_type": "execute_result"
    }
   ],
   "source": [
    "newdata.groupby('Consumer')['Profit'].sum().sort_values(ascending=False)"
   ]
  },
  {
   "cell_type": "code",
   "execution_count": 283,
   "id": "a5fbde13",
   "metadata": {},
   "outputs": [
    {
     "data": {
      "text/plain": [
       "<seaborn.axisgrid.FacetGrid at 0x1f635768c10>"
      ]
     },
     "execution_count": 283,
     "metadata": {},
     "output_type": "execute_result"
    },
    {
     "data": {
      "text/plain": [
       "<Figure size 720x720 with 0 Axes>"
      ]
     },
     "metadata": {},
     "output_type": "display_data"
    },
    {
     "data": {
      "image/png": "[encoded data removed]",
      "text/plain": [
       "<Figure size 360x360 with 1 Axes>"
      ]
     },
     "metadata": {
      "needs_background": "light"
     },
     "output_type": "display_data"
    }
   ],
   "source": [
    "sns.displot(newdata['Country'])"
   ]
  },
  {
   "cell_type": "code",
   "execution_count": 289,
   "id": "2f96c0e1",
   "metadata": {},
   "outputs": [
    {
     "data": {
      "text/plain": [
       "<seaborn.axisgrid.FacetGrid at 0x1f6356b3190>"
      ]
     },
     "execution_count": 289,
     "metadata": {},
     "output_type": "execute_result"
    },
    {
     "data": {
      "text/plain": [
       "<Figure size 1440x1440 with 0 Axes>"
      ]
     },
     "metadata": {},
     "output_type": "display_data"
    },
    {
     "data": {
      "image/png": "[encoded data removed]",
      "text/plain": [
       "<Figure size 360x360 with 1 Axes>"
      ]
     },
     "metadata": {
      "needs_background": "light"
     },
     "output_type": "display_data"
    }
   ],
   "source": [
    "sns.displot(newdata['day'])"
   ]
  },
  {
   "cell_type": "code",
   "execution_count": 291,
   "id": "8d77ec43",
   "metadata": {},
   "outputs": [
    {
     "data": {
      "text/plain": [
       "0       True\n",
       "1       True\n",
       "2       True\n",
       "3       True\n",
       "4       True\n",
       "        ... \n",
       "9995    True\n",
       "9996    True\n",
       "9997    True\n",
       "9998    True\n",
       "9999    True\n",
       "Name: Product ID, Length: 10000, dtype: bool"
      ]
     },
     "execution_count": 291,
     "metadata": {},
     "output_type": "execute_result"
    }
   ],
   "source": [
    "newdata['Product ID'].duplicated(keep=False)"
   ]
  },
  {
   "cell_type": "code",
   "execution_count": 298,
   "id": "d7704b10",
   "metadata": {},
   "outputs": [
    {
     "data": {
      "text/html": [
       "<div>\n",
       "<style scoped>\n",
       "    .dataframe tbody tr th:only-of-type {\n",
       "        vertical-align: middle;\n",
       "    }\n",
       "\n",
       "    .dataframe tbody tr th {\n",
       "        vertical-align: top;\n",
       "    }\n",
       "\n",
       "    .dataframe thead th {\n",
       "        text-align: right;\n",
       "    }\n",
       "</style>\n",
       "<table border=\"1\" class=\"dataframe\">\n",
       "  <thead>\n",
       "    <tr style=\"text-align: right;\">\n",
       "      <th></th>\n",
       "      <th>Profit</th>\n",
       "      <th>Product Category</th>\n",
       "      <th>month</th>\n",
       "    </tr>\n",
       "  </thead>\n",
       "  <tbody>\n",
       "    <tr>\n",
       "      <th>95</th>\n",
       "      <td>31.381</td>\n",
       "      <td>2</td>\n",
       "      <td>8</td>\n",
       "    </tr>\n",
       "    <tr>\n",
       "      <th>540</th>\n",
       "      <td>31.381</td>\n",
       "      <td>2</td>\n",
       "      <td>6</td>\n",
       "    </tr>\n",
       "    <tr>\n",
       "      <th>673</th>\n",
       "      <td>31.381</td>\n",
       "      <td>2</td>\n",
       "      <td>2</td>\n",
       "    </tr>\n",
       "    <tr>\n",
       "      <th>784</th>\n",
       "      <td>31.381</td>\n",
       "      <td>2</td>\n",
       "      <td>9</td>\n",
       "    </tr>\n",
       "    <tr>\n",
       "      <th>785</th>\n",
       "      <td>31.381</td>\n",
       "      <td>2</td>\n",
       "      <td>12</td>\n",
       "    </tr>\n",
       "  </tbody>\n",
       "</table>\n",
       "</div>"
      ],
      "text/plain": [
       "     Profit  Product Category  month\n",
       "95   31.381                 2      8\n",
       "540  31.381                 2      6\n",
       "673  31.381                 2      2\n",
       "784  31.381                 2      9\n",
       "785  31.381                 2     12"
      ]
     },
     "execution_count": 298,
     "metadata": {},
     "output_type": "execute_result"
    }
   ],
   "source": [
    "newdata.nlargest(5,'Profit')[['Profit','Product Category','month']]"
   ]
  },
  {
   "cell_type": "code",
   "execution_count": 299,
   "id": "d532d118",
   "metadata": {},
   "outputs": [
    {
     "data": {
      "text/html": [
       "<div>\n",
       "<style scoped>\n",
       "    .dataframe tbody tr th:only-of-type {\n",
       "        vertical-align: middle;\n",
       "    }\n",
       "\n",
       "    .dataframe tbody tr th {\n",
       "        vertical-align: top;\n",
       "    }\n",
       "\n",
       "    .dataframe thead th {\n",
       "        text-align: right;\n",
       "    }\n",
       "</style>\n",
       "<table border=\"1\" class=\"dataframe\">\n",
       "  <thead>\n",
       "    <tr style=\"text-align: right;\">\n",
       "      <th></th>\n",
       "      <th>Profit</th>\n",
       "      <th>Product Category</th>\n",
       "      <th>month</th>\n",
       "    </tr>\n",
       "  </thead>\n",
       "  <tbody>\n",
       "    <tr>\n",
       "      <th>699</th>\n",
       "      <td>1.846</td>\n",
       "      <td>0</td>\n",
       "      <td>1</td>\n",
       "    </tr>\n",
       "    <tr>\n",
       "      <th>1050</th>\n",
       "      <td>1.846</td>\n",
       "      <td>0</td>\n",
       "      <td>3</td>\n",
       "    </tr>\n",
       "    <tr>\n",
       "      <th>1297</th>\n",
       "      <td>1.846</td>\n",
       "      <td>0</td>\n",
       "      <td>9</td>\n",
       "    </tr>\n",
       "    <tr>\n",
       "      <th>1437</th>\n",
       "      <td>1.846</td>\n",
       "      <td>0</td>\n",
       "      <td>7</td>\n",
       "    </tr>\n",
       "    <tr>\n",
       "      <th>1544</th>\n",
       "      <td>1.846</td>\n",
       "      <td>0</td>\n",
       "      <td>3</td>\n",
       "    </tr>\n",
       "  </tbody>\n",
       "</table>\n",
       "</div>"
      ],
      "text/plain": [
       "      Profit  Product Category  month\n",
       "699    1.846                 0      1\n",
       "1050   1.846                 0      3\n",
       "1297   1.846                 0      9\n",
       "1437   1.846                 0      7\n",
       "1544   1.846                 0      3"
      ]
     },
     "execution_count": 299,
     "metadata": {},
     "output_type": "execute_result"
    }
   ],
   "source": [
    "newdata.nsmallest(5,'Profit')[['Profit','Product Category','month']]"
   ]
  },
  {
   "cell_type": "code",
   "execution_count": 300,
   "id": "1817f6af",
   "metadata": {},
   "outputs": [
    {
     "data": {
      "text/html": [
       "<div>\n",
       "<style scoped>\n",
       "    .dataframe tbody tr th:only-of-type {\n",
       "        vertical-align: middle;\n",
       "    }\n",
       "\n",
       "    .dataframe tbody tr th {\n",
       "        vertical-align: top;\n",
       "    }\n",
       "\n",
       "    .dataframe thead th {\n",
       "        text-align: right;\n",
       "    }\n",
       "</style>\n",
       "<table border=\"1\" class=\"dataframe\">\n",
       "  <thead>\n",
       "    <tr style=\"text-align: right;\">\n",
       "      <th></th>\n",
       "      <th>Profit</th>\n",
       "    </tr>\n",
       "  </thead>\n",
       "  <tbody>\n",
       "    <tr>\n",
       "      <th>0</th>\n",
       "      <td>19.845</td>\n",
       "    </tr>\n",
       "    <tr>\n",
       "      <th>2</th>\n",
       "      <td>17.798</td>\n",
       "    </tr>\n",
       "    <tr>\n",
       "      <th>1</th>\n",
       "      <td>7.072</td>\n",
       "    </tr>\n",
       "    <tr>\n",
       "      <th>4</th>\n",
       "      <td>5.358</td>\n",
       "    </tr>\n",
       "    <tr>\n",
       "      <th>3</th>\n",
       "      <td>3.820</td>\n",
       "    </tr>\n",
       "  </tbody>\n",
       "</table>\n",
       "</div>"
      ],
      "text/plain": [
       "   Profit\n",
       "0  19.845\n",
       "2  17.798\n",
       "1   7.072\n",
       "4   5.358\n",
       "3   3.820"
      ]
     },
     "execution_count": 300,
     "metadata": {},
     "output_type": "execute_result"
    }
   ],
   "source": [
    "newdata.query('Profit >1.846 ')[['Profit']].head().sort_values(by='Profit', ascending=False)"
   ]
  },
  {
   "cell_type": "code",
   "execution_count": 301,
   "id": "2bd3ea9e",
   "metadata": {},
   "outputs": [
    {
     "data": {
      "text/html": [
       "<div>\n",
       "<style scoped>\n",
       "    .dataframe tbody tr th:only-of-type {\n",
       "        vertical-align: middle;\n",
       "    }\n",
       "\n",
       "    .dataframe tbody tr th {\n",
       "        vertical-align: top;\n",
       "    }\n",
       "\n",
       "    .dataframe thead th {\n",
       "        text-align: right;\n",
       "    }\n",
       "</style>\n",
       "<table border=\"1\" class=\"dataframe\">\n",
       "  <thead>\n",
       "    <tr style=\"text-align: right;\">\n",
       "      <th></th>\n",
       "      <th>Profit</th>\n",
       "    </tr>\n",
       "  </thead>\n",
       "  <tbody>\n",
       "    <tr>\n",
       "      <th>0</th>\n",
       "      <td>19.845</td>\n",
       "    </tr>\n",
       "    <tr>\n",
       "      <th>1</th>\n",
       "      <td>7.072</td>\n",
       "    </tr>\n",
       "    <tr>\n",
       "      <th>2</th>\n",
       "      <td>17.798</td>\n",
       "    </tr>\n",
       "    <tr>\n",
       "      <th>3</th>\n",
       "      <td>3.820</td>\n",
       "    </tr>\n",
       "    <tr>\n",
       "      <th>4</th>\n",
       "      <td>5.358</td>\n",
       "    </tr>\n",
       "  </tbody>\n",
       "</table>\n",
       "</div>"
      ],
      "text/plain": [
       "   Profit\n",
       "0  19.845\n",
       "1   7.072\n",
       "2  17.798\n",
       "3   3.820\n",
       "4   5.358"
      ]
     },
     "execution_count": 301,
     "metadata": {},
     "output_type": "execute_result"
    }
   ],
   "source": [
    "newdata.query('Profit >1.846 ')[['Profit']].head()"
   ]
  },
  {
   "cell_type": "markdown",
   "id": "09df44f8",
   "metadata": {},
   "source": [
    "## >>>>>>>>>>>>>>>>>>>>>>>>>>>>>>>>"
   ]
  },
  {
   "cell_type": "code",
   "execution_count": 292,
   "id": "fab526c3",
   "metadata": {},
   "outputs": [
    {
     "data": {
      "text/html": [
       "<div>\n",
       "<style scoped>\n",
       "    .dataframe tbody tr th:only-of-type {\n",
       "        vertical-align: middle;\n",
       "    }\n",
       "\n",
       "    .dataframe tbody tr th {\n",
       "        vertical-align: top;\n",
       "    }\n",
       "\n",
       "    .dataframe thead th {\n",
       "        text-align: right;\n",
       "    }\n",
       "</style>\n",
       "<table border=\"1\" class=\"dataframe\">\n",
       "  <thead>\n",
       "    <tr style=\"text-align: right;\">\n",
       "      <th></th>\n",
       "      <th>Customer ID</th>\n",
       "      <th>Client Segment</th>\n",
       "      <th>Country</th>\n",
       "      <th>Product ID</th>\n",
       "      <th>Product Category</th>\n",
       "      <th>Purchasing Price</th>\n",
       "      <th>Order ID</th>\n",
       "      <th>Order Date</th>\n",
       "      <th>Delivery Date</th>\n",
       "      <th>Service Level</th>\n",
       "      <th>Quantity</th>\n",
       "      <th>Planned Sales Price</th>\n",
       "      <th>Profit</th>\n",
       "    </tr>\n",
       "  </thead>\n",
       "  <tbody>\n",
       "    <tr>\n",
       "      <th>0</th>\n",
       "      <td>1-45998003</td>\n",
       "      <td>Corporate</td>\n",
       "      <td>United Arab Emirates</td>\n",
       "      <td>Product 7</td>\n",
       "      <td>Electronics</td>\n",
       "      <td>36,081</td>\n",
       "      <td>O-80034597</td>\n",
       "      <td>7-Sep-20</td>\n",
       "      <td>10-Sep-20</td>\n",
       "      <td>3</td>\n",
       "      <td>7</td>\n",
       "      <td>55,926</td>\n",
       "      <td>19,845</td>\n",
       "    </tr>\n",
       "    <tr>\n",
       "      <th>1</th>\n",
       "      <td>1-97158370</td>\n",
       "      <td>Consumer</td>\n",
       "      <td>Morocco</td>\n",
       "      <td>Product 14</td>\n",
       "      <td>Furniture</td>\n",
       "      <td>21,430</td>\n",
       "      <td>O-83709716</td>\n",
       "      <td>23-Sep-20</td>\n",
       "      <td>25-Sep-20</td>\n",
       "      <td>2</td>\n",
       "      <td>5</td>\n",
       "      <td>28,502</td>\n",
       "      <td>7,072</td>\n",
       "    </tr>\n",
       "    <tr>\n",
       "      <th>2</th>\n",
       "      <td>1-68585938</td>\n",
       "      <td>Consumer</td>\n",
       "      <td>Saudi Arabia</td>\n",
       "      <td>Product 12</td>\n",
       "      <td>Furniture</td>\n",
       "      <td>44,494</td>\n",
       "      <td>O-59386851</td>\n",
       "      <td>24-Sep-20</td>\n",
       "      <td>25-Sep-20</td>\n",
       "      <td>1</td>\n",
       "      <td>3</td>\n",
       "      <td>62,292</td>\n",
       "      <td>17,798</td>\n",
       "    </tr>\n",
       "    <tr>\n",
       "      <th>3</th>\n",
       "      <td>1-67285988</td>\n",
       "      <td>Consumer</td>\n",
       "      <td>Algeria</td>\n",
       "      <td>Product 20</td>\n",
       "      <td>Computer &amp; Laptop</td>\n",
       "      <td>12,734</td>\n",
       "      <td>O-59886722</td>\n",
       "      <td>24-Apr-20</td>\n",
       "      <td>25-Apr-20</td>\n",
       "      <td>1</td>\n",
       "      <td>1</td>\n",
       "      <td>16,554</td>\n",
       "      <td>3,820</td>\n",
       "    </tr>\n",
       "    <tr>\n",
       "      <th>4</th>\n",
       "      <td>1-64719309</td>\n",
       "      <td>Consumer</td>\n",
       "      <td>Egypt</td>\n",
       "      <td>Product 14</td>\n",
       "      <td>Furniture</td>\n",
       "      <td>21,430</td>\n",
       "      <td>O-93096473</td>\n",
       "      <td>17-Jan-20</td>\n",
       "      <td>20-Jan-20</td>\n",
       "      <td>3</td>\n",
       "      <td>1</td>\n",
       "      <td>26,788</td>\n",
       "      <td>5,358</td>\n",
       "    </tr>\n",
       "  </tbody>\n",
       "</table>\n",
       "</div>"
      ],
      "text/plain": [
       "  Customer ID Client Segment               Country  Product ID  \\\n",
       "0  1-45998003      Corporate  United Arab Emirates   Product 7   \n",
       "1  1-97158370       Consumer               Morocco  Product 14   \n",
       "2  1-68585938       Consumer          Saudi Arabia  Product 12   \n",
       "3  1-67285988       Consumer               Algeria  Product 20   \n",
       "4  1-64719309       Consumer                 Egypt  Product 14   \n",
       "\n",
       "    Product Category Purchasing Price    Order ID Order Date Delivery Date  \\\n",
       "0        Electronics           36,081  O-80034597   7-Sep-20     10-Sep-20   \n",
       "1          Furniture           21,430  O-83709716  23-Sep-20     25-Sep-20   \n",
       "2          Furniture           44,494  O-59386851  24-Sep-20     25-Sep-20   \n",
       "3  Computer & Laptop           12,734  O-59886722  24-Apr-20     25-Apr-20   \n",
       "4          Furniture           21,430  O-93096473  17-Jan-20     20-Jan-20   \n",
       "\n",
       "   Service Level  Quantity Planned Sales Price  Profit  \n",
       "0              3         7              55,926  19,845  \n",
       "1              2         5              28,502   7,072  \n",
       "2              1         3              62,292  17,798  \n",
       "3              1         1              16,554   3,820  \n",
       "4              3         1              26,788   5,358  "
      ]
     },
     "execution_count": 292,
     "metadata": {},
     "output_type": "execute_result"
    }
   ],
   "source": [
    "data.head()"
   ]
  },
  {
   "cell_type": "code",
   "execution_count": 293,
   "id": "9be1661b",
   "metadata": {},
   "outputs": [
    {
     "data": {
      "text/html": [
       "<div>\n",
       "<style scoped>\n",
       "    .dataframe tbody tr th:only-of-type {\n",
       "        vertical-align: middle;\n",
       "    }\n",
       "\n",
       "    .dataframe tbody tr th {\n",
       "        vertical-align: top;\n",
       "    }\n",
       "\n",
       "    .dataframe thead th {\n",
       "        text-align: right;\n",
       "    }\n",
       "</style>\n",
       "<table border=\"1\" class=\"dataframe\">\n",
       "  <thead>\n",
       "    <tr style=\"text-align: right;\">\n",
       "      <th></th>\n",
       "      <th>Product Category</th>\n",
       "      <th>Quantity</th>\n",
       "      <th>Profit</th>\n",
       "    </tr>\n",
       "  </thead>\n",
       "  <tbody>\n",
       "    <tr>\n",
       "      <th>1</th>\n",
       "      <td>Furniture</td>\n",
       "      <td>5</td>\n",
       "      <td>7,072</td>\n",
       "    </tr>\n",
       "    <tr>\n",
       "      <th>2</th>\n",
       "      <td>Furniture</td>\n",
       "      <td>3</td>\n",
       "      <td>17,798</td>\n",
       "    </tr>\n",
       "    <tr>\n",
       "      <th>3</th>\n",
       "      <td>Computer &amp; Laptop</td>\n",
       "      <td>1</td>\n",
       "      <td>3,820</td>\n",
       "    </tr>\n",
       "    <tr>\n",
       "      <th>4</th>\n",
       "      <td>Furniture</td>\n",
       "      <td>1</td>\n",
       "      <td>5,358</td>\n",
       "    </tr>\n",
       "    <tr>\n",
       "      <th>5</th>\n",
       "      <td>Furniture</td>\n",
       "      <td>5</td>\n",
       "      <td>23,883</td>\n",
       "    </tr>\n",
       "    <tr>\n",
       "      <th>...</th>\n",
       "      <td>...</td>\n",
       "      <td>...</td>\n",
       "      <td>...</td>\n",
       "    </tr>\n",
       "    <tr>\n",
       "      <th>9987</th>\n",
       "      <td>Computer &amp; Laptop</td>\n",
       "      <td>25</td>\n",
       "      <td>3,184</td>\n",
       "    </tr>\n",
       "    <tr>\n",
       "      <th>9991</th>\n",
       "      <td>Computer &amp; Laptop</td>\n",
       "      <td>24</td>\n",
       "      <td>3,939</td>\n",
       "    </tr>\n",
       "    <tr>\n",
       "      <th>9993</th>\n",
       "      <td>Furniture</td>\n",
       "      <td>2</td>\n",
       "      <td>16,547</td>\n",
       "    </tr>\n",
       "    <tr>\n",
       "      <th>9994</th>\n",
       "      <td>Furniture</td>\n",
       "      <td>22</td>\n",
       "      <td>17,909</td>\n",
       "    </tr>\n",
       "    <tr>\n",
       "      <th>9995</th>\n",
       "      <td>Furniture</td>\n",
       "      <td>2</td>\n",
       "      <td>14,775</td>\n",
       "    </tr>\n",
       "  </tbody>\n",
       "</table>\n",
       "<p>6590 rows × 3 columns</p>\n",
       "</div>"
      ],
      "text/plain": [
       "       Product Category  Quantity  Profit\n",
       "1             Furniture         5   7,072\n",
       "2             Furniture         3  17,798\n",
       "3     Computer & Laptop         1   3,820\n",
       "4             Furniture         1   5,358\n",
       "5             Furniture         5  23,883\n",
       "...                 ...       ...     ...\n",
       "9987  Computer & Laptop        25   3,184\n",
       "9991  Computer & Laptop        24   3,939\n",
       "9993          Furniture         2  16,547\n",
       "9994          Furniture        22  17,909\n",
       "9995          Furniture         2  14,775\n",
       "\n",
       "[6590 rows x 3 columns]"
      ]
     },
     "execution_count": 293,
     "metadata": {},
     "output_type": "execute_result"
    }
   ],
   "source": [
    "data[~data['Product Category'].str.startswith('E')][['Product Category','Quantity','Profit']]"
   ]
  },
  {
   "cell_type": "code",
   "execution_count": 294,
   "id": "951b0f10",
   "metadata": {},
   "outputs": [
    {
     "data": {
      "text/html": [
       "<div>\n",
       "<style scoped>\n",
       "    .dataframe tbody tr th:only-of-type {\n",
       "        vertical-align: middle;\n",
       "    }\n",
       "\n",
       "    .dataframe tbody tr th {\n",
       "        vertical-align: top;\n",
       "    }\n",
       "\n",
       "    .dataframe thead th {\n",
       "        text-align: right;\n",
       "    }\n",
       "</style>\n",
       "<table border=\"1\" class=\"dataframe\">\n",
       "  <thead>\n",
       "    <tr style=\"text-align: right;\">\n",
       "      <th></th>\n",
       "      <th>Product Category</th>\n",
       "      <th>Quantity</th>\n",
       "      <th>Profit</th>\n",
       "    </tr>\n",
       "  </thead>\n",
       "  <tbody>\n",
       "    <tr>\n",
       "      <th>0</th>\n",
       "      <td>Electronics</td>\n",
       "      <td>7</td>\n",
       "      <td>19,845</td>\n",
       "    </tr>\n",
       "    <tr>\n",
       "      <th>10</th>\n",
       "      <td>Electronics</td>\n",
       "      <td>1</td>\n",
       "      <td>6,990</td>\n",
       "    </tr>\n",
       "    <tr>\n",
       "      <th>12</th>\n",
       "      <td>Electronics</td>\n",
       "      <td>4</td>\n",
       "      <td>15,550</td>\n",
       "    </tr>\n",
       "    <tr>\n",
       "      <th>13</th>\n",
       "      <td>Electronics</td>\n",
       "      <td>3</td>\n",
       "      <td>11,309</td>\n",
       "    </tr>\n",
       "    <tr>\n",
       "      <th>20</th>\n",
       "      <td>Electronics</td>\n",
       "      <td>8</td>\n",
       "      <td>3,659</td>\n",
       "    </tr>\n",
       "    <tr>\n",
       "      <th>...</th>\n",
       "      <td>...</td>\n",
       "      <td>...</td>\n",
       "      <td>...</td>\n",
       "    </tr>\n",
       "    <tr>\n",
       "      <th>9992</th>\n",
       "      <td>Electronics</td>\n",
       "      <td>9</td>\n",
       "      <td>11,309</td>\n",
       "    </tr>\n",
       "    <tr>\n",
       "      <th>9996</th>\n",
       "      <td>Electronics</td>\n",
       "      <td>4</td>\n",
       "      <td>2,885</td>\n",
       "    </tr>\n",
       "    <tr>\n",
       "      <th>9997</th>\n",
       "      <td>Electronics</td>\n",
       "      <td>2</td>\n",
       "      <td>3,286</td>\n",
       "    </tr>\n",
       "    <tr>\n",
       "      <th>9998</th>\n",
       "      <td>Electronics</td>\n",
       "      <td>18</td>\n",
       "      <td>7,229</td>\n",
       "    </tr>\n",
       "    <tr>\n",
       "      <th>9999</th>\n",
       "      <td>Electronics</td>\n",
       "      <td>1</td>\n",
       "      <td>3,286</td>\n",
       "    </tr>\n",
       "  </tbody>\n",
       "</table>\n",
       "<p>3410 rows × 3 columns</p>\n",
       "</div>"
      ],
      "text/plain": [
       "     Product Category  Quantity  Profit\n",
       "0         Electronics         7  19,845\n",
       "10        Electronics         1   6,990\n",
       "12        Electronics         4  15,550\n",
       "13        Electronics         3  11,309\n",
       "20        Electronics         8   3,659\n",
       "...               ...       ...     ...\n",
       "9992      Electronics         9  11,309\n",
       "9996      Electronics         4   2,885\n",
       "9997      Electronics         2   3,286\n",
       "9998      Electronics        18   7,229\n",
       "9999      Electronics         1   3,286\n",
       "\n",
       "[3410 rows x 3 columns]"
      ]
     },
     "execution_count": 294,
     "metadata": {},
     "output_type": "execute_result"
    }
   ],
   "source": [
    "data[data['Product Category'].str.endswith('s')][['Product Category','Quantity','Profit']]"
   ]
  },
  {
   "cell_type": "code",
   "execution_count": 295,
   "id": "827d8b79",
   "metadata": {},
   "outputs": [
    {
     "data": {
      "text/html": [
       "<div>\n",
       "<style scoped>\n",
       "    .dataframe tbody tr th:only-of-type {\n",
       "        vertical-align: middle;\n",
       "    }\n",
       "\n",
       "    .dataframe tbody tr th {\n",
       "        vertical-align: top;\n",
       "    }\n",
       "\n",
       "    .dataframe thead th {\n",
       "        text-align: right;\n",
       "    }\n",
       "</style>\n",
       "<table border=\"1\" class=\"dataframe\">\n",
       "  <thead>\n",
       "    <tr style=\"text-align: right;\">\n",
       "      <th></th>\n",
       "      <th>Product Category</th>\n",
       "      <th>Quantity</th>\n",
       "      <th>Profit</th>\n",
       "    </tr>\n",
       "  </thead>\n",
       "  <tbody>\n",
       "    <tr>\n",
       "      <th>3</th>\n",
       "      <td>Computer &amp; Laptop</td>\n",
       "      <td>1</td>\n",
       "      <td>3,820</td>\n",
       "    </tr>\n",
       "    <tr>\n",
       "      <th>15</th>\n",
       "      <td>Computer &amp; Laptop</td>\n",
       "      <td>4</td>\n",
       "      <td>4,202</td>\n",
       "    </tr>\n",
       "    <tr>\n",
       "      <th>24</th>\n",
       "      <td>Computer &amp; Laptop</td>\n",
       "      <td>14</td>\n",
       "      <td>3,184</td>\n",
       "    </tr>\n",
       "    <tr>\n",
       "      <th>33</th>\n",
       "      <td>Computer &amp; Laptop</td>\n",
       "      <td>1</td>\n",
       "      <td>6,296</td>\n",
       "    </tr>\n",
       "    <tr>\n",
       "      <th>38</th>\n",
       "      <td>Computer &amp; Laptop</td>\n",
       "      <td>25</td>\n",
       "      <td>10,291</td>\n",
       "    </tr>\n",
       "    <tr>\n",
       "      <th>...</th>\n",
       "      <td>...</td>\n",
       "      <td>...</td>\n",
       "      <td>...</td>\n",
       "    </tr>\n",
       "    <tr>\n",
       "      <th>9982</th>\n",
       "      <td>Computer &amp; Laptop</td>\n",
       "      <td>4</td>\n",
       "      <td>6,175</td>\n",
       "    </tr>\n",
       "    <tr>\n",
       "      <th>9983</th>\n",
       "      <td>Computer &amp; Laptop</td>\n",
       "      <td>5</td>\n",
       "      <td>6,296</td>\n",
       "    </tr>\n",
       "    <tr>\n",
       "      <th>9985</th>\n",
       "      <td>Computer &amp; Laptop</td>\n",
       "      <td>1</td>\n",
       "      <td>7,632</td>\n",
       "    </tr>\n",
       "    <tr>\n",
       "      <th>9987</th>\n",
       "      <td>Computer &amp; Laptop</td>\n",
       "      <td>25</td>\n",
       "      <td>3,184</td>\n",
       "    </tr>\n",
       "    <tr>\n",
       "      <th>9991</th>\n",
       "      <td>Computer &amp; Laptop</td>\n",
       "      <td>24</td>\n",
       "      <td>3,939</td>\n",
       "    </tr>\n",
       "  </tbody>\n",
       "</table>\n",
       "<p>3037 rows × 3 columns</p>\n",
       "</div>"
      ],
      "text/plain": [
       "       Product Category  Quantity  Profit\n",
       "3     Computer & Laptop         1   3,820\n",
       "15    Computer & Laptop         4   4,202\n",
       "24    Computer & Laptop        14   3,184\n",
       "33    Computer & Laptop         1   6,296\n",
       "38    Computer & Laptop        25  10,291\n",
       "...                 ...       ...     ...\n",
       "9982  Computer & Laptop         4   6,175\n",
       "9983  Computer & Laptop         5   6,296\n",
       "9985  Computer & Laptop         1   7,632\n",
       "9987  Computer & Laptop        25   3,184\n",
       "9991  Computer & Laptop        24   3,939\n",
       "\n",
       "[3037 rows x 3 columns]"
      ]
     },
     "execution_count": 295,
     "metadata": {},
     "output_type": "execute_result"
    }
   ],
   "source": [
    "data[data['Product Category'].str.contains('&')][['Product Category','Quantity','Profit']]"
   ]
  },
  {
   "cell_type": "code",
   "execution_count": 296,
   "id": "07e7663f",
   "metadata": {},
   "outputs": [
    {
     "data": {
      "text/html": [
       "<div>\n",
       "<style scoped>\n",
       "    .dataframe tbody tr th:only-of-type {\n",
       "        vertical-align: middle;\n",
       "    }\n",
       "\n",
       "    .dataframe tbody tr th {\n",
       "        vertical-align: top;\n",
       "    }\n",
       "\n",
       "    .dataframe thead th {\n",
       "        text-align: right;\n",
       "    }\n",
       "</style>\n",
       "<table border=\"1\" class=\"dataframe\">\n",
       "  <thead>\n",
       "    <tr style=\"text-align: right;\">\n",
       "      <th></th>\n",
       "      <th>Product Category</th>\n",
       "      <th>Country</th>\n",
       "      <th>Profit</th>\n",
       "    </tr>\n",
       "  </thead>\n",
       "  <tbody>\n",
       "    <tr>\n",
       "      <th>58</th>\n",
       "      <td>Computer &amp; Laptop</td>\n",
       "      <td>Saudi Arabia</td>\n",
       "      <td>7,632</td>\n",
       "    </tr>\n",
       "    <tr>\n",
       "      <th>152</th>\n",
       "      <td>Computer &amp; Laptop</td>\n",
       "      <td>Saudi Arabia</td>\n",
       "      <td>5,094</td>\n",
       "    </tr>\n",
       "    <tr>\n",
       "      <th>167</th>\n",
       "      <td>Computer &amp; Laptop</td>\n",
       "      <td>Saudi Arabia</td>\n",
       "      <td>6,382</td>\n",
       "    </tr>\n",
       "    <tr>\n",
       "      <th>170</th>\n",
       "      <td>Computer &amp; Laptop</td>\n",
       "      <td>Saudi Arabia</td>\n",
       "      <td>6,382</td>\n",
       "    </tr>\n",
       "    <tr>\n",
       "      <th>197</th>\n",
       "      <td>Computer &amp; Laptop</td>\n",
       "      <td>Saudi Arabia</td>\n",
       "      <td>6,382</td>\n",
       "    </tr>\n",
       "    <tr>\n",
       "      <th>...</th>\n",
       "      <td>...</td>\n",
       "      <td>...</td>\n",
       "      <td>...</td>\n",
       "    </tr>\n",
       "    <tr>\n",
       "      <th>9888</th>\n",
       "      <td>Computer &amp; Laptop</td>\n",
       "      <td>Saudi Arabia</td>\n",
       "      <td>9,228</td>\n",
       "    </tr>\n",
       "    <tr>\n",
       "      <th>9891</th>\n",
       "      <td>Computer &amp; Laptop</td>\n",
       "      <td>Saudi Arabia</td>\n",
       "      <td>5,094</td>\n",
       "    </tr>\n",
       "    <tr>\n",
       "      <th>9914</th>\n",
       "      <td>Computer &amp; Laptop</td>\n",
       "      <td>Saudi Arabia</td>\n",
       "      <td>6,382</td>\n",
       "    </tr>\n",
       "    <tr>\n",
       "      <th>9952</th>\n",
       "      <td>Computer &amp; Laptop</td>\n",
       "      <td>Saudi Arabia</td>\n",
       "      <td>4,923</td>\n",
       "    </tr>\n",
       "    <tr>\n",
       "      <th>9985</th>\n",
       "      <td>Computer &amp; Laptop</td>\n",
       "      <td>Saudi Arabia</td>\n",
       "      <td>7,632</td>\n",
       "    </tr>\n",
       "  </tbody>\n",
       "</table>\n",
       "<p>509 rows × 3 columns</p>\n",
       "</div>"
      ],
      "text/plain": [
       "       Product Category       Country Profit\n",
       "58    Computer & Laptop  Saudi Arabia  7,632\n",
       "152   Computer & Laptop  Saudi Arabia  5,094\n",
       "167   Computer & Laptop  Saudi Arabia  6,382\n",
       "170   Computer & Laptop  Saudi Arabia  6,382\n",
       "197   Computer & Laptop  Saudi Arabia  6,382\n",
       "...                 ...           ...    ...\n",
       "9888  Computer & Laptop  Saudi Arabia  9,228\n",
       "9891  Computer & Laptop  Saudi Arabia  5,094\n",
       "9914  Computer & Laptop  Saudi Arabia  6,382\n",
       "9952  Computer & Laptop  Saudi Arabia  4,923\n",
       "9985  Computer & Laptop  Saudi Arabia  7,632\n",
       "\n",
       "[509 rows x 3 columns]"
      ]
     },
     "execution_count": 296,
     "metadata": {},
     "output_type": "execute_result"
    }
   ],
   "source": [
    "data[data['Product Category'].str.contains('&') & data['Country'].str.endswith('bia')][['Product Category','Country','Profit']]"
   ]
  },
  {
   "cell_type": "code",
   "execution_count": 297,
   "id": "36268497",
   "metadata": {},
   "outputs": [
    {
     "data": {
      "text/html": [
       "<div>\n",
       "<style scoped>\n",
       "    .dataframe tbody tr th:only-of-type {\n",
       "        vertical-align: middle;\n",
       "    }\n",
       "\n",
       "    .dataframe tbody tr th {\n",
       "        vertical-align: top;\n",
       "    }\n",
       "\n",
       "    .dataframe thead th {\n",
       "        text-align: right;\n",
       "    }\n",
       "</style>\n",
       "<table border=\"1\" class=\"dataframe\">\n",
       "  <thead>\n",
       "    <tr style=\"text-align: right;\">\n",
       "      <th></th>\n",
       "      <th>Product Category</th>\n",
       "      <th>Country</th>\n",
       "      <th>Profit</th>\n",
       "    </tr>\n",
       "  </thead>\n",
       "  <tbody>\n",
       "    <tr>\n",
       "      <th>0</th>\n",
       "      <td>Electronics</td>\n",
       "      <td>United Arab Emirates</td>\n",
       "      <td>19,845</td>\n",
       "    </tr>\n",
       "    <tr>\n",
       "      <th>1</th>\n",
       "      <td>Furniture</td>\n",
       "      <td>Morocco</td>\n",
       "      <td>7,072</td>\n",
       "    </tr>\n",
       "    <tr>\n",
       "      <th>4</th>\n",
       "      <td>Furniture</td>\n",
       "      <td>Egypt</td>\n",
       "      <td>5,358</td>\n",
       "    </tr>\n",
       "    <tr>\n",
       "      <th>5</th>\n",
       "      <td>Furniture</td>\n",
       "      <td>United Arab Emirates</td>\n",
       "      <td>23,883</td>\n",
       "    </tr>\n",
       "    <tr>\n",
       "      <th>7</th>\n",
       "      <td>Furniture</td>\n",
       "      <td>United Arab Emirates</td>\n",
       "      <td>23,883</td>\n",
       "    </tr>\n",
       "    <tr>\n",
       "      <th>...</th>\n",
       "      <td>...</td>\n",
       "      <td>...</td>\n",
       "      <td>...</td>\n",
       "    </tr>\n",
       "    <tr>\n",
       "      <th>9995</th>\n",
       "      <td>Furniture</td>\n",
       "      <td>Morocco</td>\n",
       "      <td>14,775</td>\n",
       "    </tr>\n",
       "    <tr>\n",
       "      <th>9996</th>\n",
       "      <td>Electronics</td>\n",
       "      <td>Iraq</td>\n",
       "      <td>2,885</td>\n",
       "    </tr>\n",
       "    <tr>\n",
       "      <th>9997</th>\n",
       "      <td>Electronics</td>\n",
       "      <td>Egypt</td>\n",
       "      <td>3,286</td>\n",
       "    </tr>\n",
       "    <tr>\n",
       "      <th>9998</th>\n",
       "      <td>Electronics</td>\n",
       "      <td>United Arab Emirates</td>\n",
       "      <td>7,229</td>\n",
       "    </tr>\n",
       "    <tr>\n",
       "      <th>9999</th>\n",
       "      <td>Electronics</td>\n",
       "      <td>Egypt</td>\n",
       "      <td>3,286</td>\n",
       "    </tr>\n",
       "  </tbody>\n",
       "</table>\n",
       "<p>5839 rows × 3 columns</p>\n",
       "</div>"
      ],
      "text/plain": [
       "     Product Category               Country  Profit\n",
       "0         Electronics  United Arab Emirates  19,845\n",
       "1           Furniture               Morocco   7,072\n",
       "4           Furniture                 Egypt   5,358\n",
       "5           Furniture  United Arab Emirates  23,883\n",
       "7           Furniture  United Arab Emirates  23,883\n",
       "...               ...                   ...     ...\n",
       "9995        Furniture               Morocco  14,775\n",
       "9996      Electronics                  Iraq   2,885\n",
       "9997      Electronics                 Egypt   3,286\n",
       "9998      Electronics  United Arab Emirates   7,229\n",
       "9999      Electronics                 Egypt   3,286\n",
       "\n",
       "[5839 rows x 3 columns]"
      ]
     },
     "execution_count": 297,
     "metadata": {},
     "output_type": "execute_result"
    }
   ],
   "source": [
    "data[~data['Product Category'].str.contains('&') & ~data['Country'].str.endswith('bia')][['Product Category','Country','Profit']]"
   ]
  }
 ],
 "metadata": {
  "kernelspec": {
   "display_name": "Python 3 (ipykernel)",
   "language": "python",
   "name": "python3"
  },
  "language_info": {
   "codemirror_mode": {
    "name": "ipython",
    "version": 3
   },
   "file_extension": ".py",
   "mimetype": "text/x-python",
   "name": "python",
   "nbconvert_exporter": "python",
   "pygments_lexer": "ipython3",
   "version": "3.9.7"
  }
 },
 "nbformat": 4,
 "nbformat_minor": 5
}
